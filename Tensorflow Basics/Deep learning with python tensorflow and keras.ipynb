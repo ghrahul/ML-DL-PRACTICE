{
 "cells": [
  {
   "cell_type": "code",
   "execution_count": 19,
   "metadata": {},
   "outputs": [
    {
     "name": "stdout",
     "output_type": "stream",
     "text": [
      "Epoch 1/3\n",
      "60000/60000 [==============================] - 10s 170us/step - loss: 0.2661 - acc: 0.9214\n",
      "Epoch 2/3\n",
      "60000/60000 [==============================] - 9s 147us/step - loss: 0.1066 - acc: 0.9673\n",
      "Epoch 3/3\n",
      "60000/60000 [==============================] - 9s 142us/step - loss: 0.0723 - acc: 0.9771\n"
     ]
    },
    {
     "data": {
      "text/plain": [
       "<tensorflow.python.keras.callbacks.History at 0x14e1bba25f8>"
      ]
     },
     "execution_count": 19,
     "metadata": {},
     "output_type": "execute_result"
    }
   ],
   "source": [
    "import tensorflow as tf\n",
    "\n",
    "mnist = tf.keras.datasets.mnist #28/28 images of handwritten digits 0-9\n",
    "\n",
    "(x_train, y_train), (x_test, y_test) = mnist.load_data()\n",
    "\n",
    "x_train = tf.keras.utils.normalize(x_train, axis=1) #normalizing data between values 0-1\n",
    "x_test = tf.keras.utils.normalize(x_test, axis=1)\n",
    "\n",
    "model = tf.keras.models.Sequential() #there are two types of model one is sequential\n",
    "model.add(tf.keras.layers.Flatten()) #input layer\n",
    "model.add(tf.keras.layers.Dense(128, activation=tf.nn.relu)) #activation is activation function and 128 nurons- 1st layer\n",
    "model.add(tf.keras.layers.Dense(128, activation=tf.nn.relu)) #2nd layer\n",
    "model.add(tf.keras.layers.Dense(10, activation=tf.nn.softmax)) #output layer. softmax is probability function\n",
    "\n",
    "model.compile(optimizer='adam', loss='sparse_categorical_crossentropy', metrics=['accuracy']) \n",
    "#passing paramters..there are optimizers \n",
    "#we can use and this model try to reduce loss..and there are many categories for loss reduction also.\n",
    "\n",
    "model.fit(x_train, y_train, epochs=3) #training model by going through dataset 3 times(epochs=3\n"
   ]
  },
  {
   "cell_type": "code",
   "execution_count": 20,
   "metadata": {},
   "outputs": [
    {
     "name": "stdout",
     "output_type": "stream",
     "text": [
      "10000/10000 [==============================] - 1s 68us/step\n",
      "0.0903164407248 0.9711\n"
     ]
    }
   ],
   "source": [
    "val_loss, val_acc = model.evaluate(x_test, y_test) #cross validation\n",
    "print(val_loss, val_acc)"
   ]
  },
  {
   "cell_type": "code",
   "execution_count": 10,
   "metadata": {},
   "outputs": [
    {
     "data": {
      "image/png": "[encoded data removed]",
      "text/plain": [
       "<Figure size 432x288 with 1 Axes>"
      ]
     },
     "metadata": {},
     "output_type": "display_data"
    }
   ],
   "source": [
    "import matplotlib.pyplot as plt\n",
    "\n",
    "plt.imshow(x_train[4], cmap = plt.cm.binary)\n",
    "plt.show()\n",
    "#print(x_train[1])"
   ]
  },
  {
   "cell_type": "code",
   "execution_count": 23,
   "metadata": {},
   "outputs": [
    {
     "name": "stdout",
     "output_type": "stream",
     "text": [
      "[[  3.08168352e-10   2.02054636e-07   1.70985686e-06 ...,   9.99989033e-01\n",
      "    1.60371787e-08   2.52510517e-07]\n",
      " [  5.21517662e-10   4.44487610e-04   9.99543309e-01 ...,   5.46525456e-08\n",
      "    3.93142550e-08   3.64545243e-12]\n",
      " [  5.66550646e-08   9.99844193e-01   1.76145149e-05 ...,   8.01047718e-05\n",
      "    1.08533441e-05   1.09581279e-07]\n",
      " ..., \n",
      " [  5.18920615e-07   3.20836079e-05   6.83226801e-07 ...,   3.24996235e-03\n",
      "    2.52409227e-05   1.56758400e-03]\n",
      " [  2.41428370e-06   3.12404239e-07   1.87928126e-08 ...,   7.41329859e-06\n",
      "    8.50507291e-04   8.01196407e-08]\n",
      " [  1.70922803e-07   6.76250309e-08   1.46366745e-06 ...,   1.01347619e-09\n",
      "    2.85293531e-08   4.04883949e-09]]\n"
     ]
    }
   ],
   "source": [
    "predictions = model.predict([x_test])\n",
    "print(predictions)"
   ]
  },
  {
   "cell_type": "code",
   "execution_count": 24,
   "metadata": {},
   "outputs": [
    {
     "name": "stdout",
     "output_type": "stream",
     "text": [
      "7\n"
     ]
    }
   ],
   "source": [
    "import numpy as np\n",
    "print(np.argmax(predictions[0])) #output prediction by our model"
   ]
  },
  {
   "cell_type": "code",
   "execution_count": 25,
   "metadata": {},
   "outputs": [
    {
     "data": {
      "image/png": "[encoded data removed]",
      "text/plain": [
       "<Figure size 432x288 with 1 Axes>"
      ]
     },
     "metadata": {},
     "output_type": "display_data"
    }
   ],
   "source": [
    "plt.imshow(x_test[0]) #input to the model\n",
    "plt.show()"
   ]
  }
 ],
 "metadata": {
  "kernelspec": {
   "display_name": "Python 3",
   "language": "python",
   "name": "python3"
  },
  "language_info": {
   "codemirror_mode": {
    "name": "ipython",
    "version": 3
   },
   "file_extension": ".py",
   "mimetype": "text/x-python",
   "name": "python",
   "nbconvert_exporter": "python",
   "pygments_lexer": "ipython3",
   "version": "3.6.6"
  }
 },
 "nbformat": 4,
 "nbformat_minor": 2
}

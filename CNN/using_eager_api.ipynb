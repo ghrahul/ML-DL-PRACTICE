{
  "nbformat": 4,
  "nbformat_minor": 0,
  "metadata": {
    "colab": {
      "name": "using eager api.ipynb",
      "version": "0.3.2",
      "provenance": [],
      "collapsed_sections": [],
      "include_colab_link": true
    },
    "kernelspec": {
      "name": "python3",
      "display_name": "Python 3"
    }
  },
  "cells": [
    {
      "cell_type": "markdown",
      "metadata": {
        "id": "view-in-github",
        "colab_type": "text"
      },
      "source": [
        "<a href=\"https://colab.research.google.com/github/ghrahul/ML-DL-PRACTICE/blob/master/CNN/using_eager_api.ipynb\" target=\"_parent\"><img src=\"https://colab.research.google.com/assets/colab-badge.svg\" alt=\"Open In Colab\"/></a>"
      ]
    },
    {
      "metadata": {
        "id": "BIH60OjRMZYW",
        "colab_type": "code",
        "colab": {}
      },
      "cell_type": "code",
      "source": [
        "from __future__ import absolute_import, division, print_function\n",
        "import matplotlib.pyplot as plt\n",
        "import numpy as np\n",
        "import tensorflow as tf\n"
      ],
      "execution_count": 0,
      "outputs": []
    },
    {
      "metadata": {
        "id": "4scZMVQIQ0JB",
        "colab_type": "code",
        "colab": {}
      },
      "cell_type": "code",
      "source": [
        "#set eager api\n",
        "tf.enable_eager_execution()\n",
        "tfe = tf.contrib.eager"
      ],
      "execution_count": 0,
      "outputs": []
    },
    {
      "metadata": {
        "id": "nESlS-gkRHkg",
        "colab_type": "code",
        "colab": {}
      },
      "cell_type": "code",
      "source": [
        "# Training Data\n",
        "train_X = [3.3, 4.4, 5.5, 6.71, 6.93, 4.168, 9.779, 6.182, 7.59, 2.167,\n",
        "           7.042, 10.791, 5.313, 7.997, 5.654, 9.27, 3.1]\n",
        "train_Y = [1.7, 2.76, 2.09, 3.19, 1.694, 1.573, 3.366, 2.596, 2.53, 1.221,\n",
        "           2.827, 3.465, 1.65, 2.904, 2.42, 2.94, 1.3]\n",
        "n_samples = len(train_X)\n",
        "\n",
        "# Parameters\n",
        "learning_rate = 0.01\n",
        "display_step = 100\n",
        "num_steps = 1000"
      ],
      "execution_count": 0,
      "outputs": []
    },
    {
      "metadata": {
        "id": "IXBc4qbNR4Ol",
        "colab_type": "code",
        "colab": {}
      },
      "cell_type": "code",
      "source": [
        "#weight and bias\n",
        "W = tfe.Variable(np.random.randn())\n",
        "b = tfe.Variable(np.random.randn())\n",
        "\n",
        "#linear regression (Wx+b)\n",
        "def linear_regression(inputs):\n",
        "  return inputs * W +b\n",
        "\n",
        "#mean square error\n",
        "def mean_square_fn(model_fn, inputs, labels):\n",
        "  return tf.reduce_sum(tf.pow(model_fn(inputs) - labels,2)) / (2 * n_samples)"
      ],
      "execution_count": 0,
      "outputs": []
    },
    {
      "metadata": {
        "id": "1lI1P_v8hPUn",
        "colab_type": "code",
        "colab": {}
      },
      "cell_type": "code",
      "source": [
        "#stochastic gradient optimizer\n",
        "optimizer = tf.train.GradientDescentOptimizer(learning_rate=learning_rate)\n",
        "\n",
        "#compute gradients\n",
        "grad = tfe.implicit_gradients(mean_square_fn)\n"
      ],
      "execution_count": 0,
      "outputs": []
    },
    {
      "metadata": {
        "id": "yQFIq4R6jBHz",
        "colab_type": "code",
        "colab": {
          "base_uri": "https://localhost:8080/",
          "height": 565
        },
        "outputId": "f5add584-88fc-4f8b-be2e-d296823a378c"
      },
      "cell_type": "code",
      "source": [
        "#Initial cost, before optimization\n",
        "print(\"Initial cost= {:.9f}\".format(\n",
        "    mean_square_fn(linear_regression, train_X, train_Y)),\n",
        "    \"W=\", W.numpy(), \"b=\", b.numpy())\n",
        "\n",
        "# Training\n",
        "for step in range(num_steps):\n",
        "\n",
        "    optimizer.apply_gradients(grad(linear_regression, train_X, train_Y))\n",
        "\n",
        "    if (step + 1) % display_step == 0 or step == 0:\n",
        "        print(\"Epoch:\", '%04d' % (step + 1), \"cost=\",\n",
        "              \"{:.9f}\".format(mean_square_fn(linear_regression, train_X, train_Y)),\n",
        "              \"W=\", W.numpy(), \"b=\", b.numpy())\n",
        "\n",
        "# Graphic display\n",
        "plt.plot(train_X, train_Y, 'ro', label='Original data')\n",
        "plt.plot(train_X, np.array(W * train_X + b), label='Fitted line')\n",
        "plt.legend()\n",
        "plt.show()"
      ],
      "execution_count": 22,
      "outputs": [
        {
          "output_type": "stream",
          "text": [
            "WARNING:tensorflow:From /usr/local/lib/python3.6/dist-packages/tensorflow/python/ops/resource_variable_ops.py:642: colocate_with (from tensorflow.python.framework.ops) is deprecated and will be removed in a future version.\n",
            "Instructions for updating:\n",
            "Colocations handled automatically by placer.\n",
            "Initial cost= 9.521349907 W= -0.2907499 b= 0.020849988\n",
            "Epoch: 0001 cost= 2.937587500 W= -0.0021114366 b= 0.062414654\n",
            "Epoch: 0100 cost= 0.099893756 W= 0.33755055 b= 0.1896981\n",
            "Epoch: 0200 cost= 0.094941117 W= 0.32772434 b= 0.2593616\n",
            "Epoch: 0300 cost= 0.091056600 W= 0.31902197 b= 0.32105756\n",
            "Epoch: 0400 cost= 0.088009782 W= 0.31131488 b= 0.37569734\n",
            "Epoch: 0500 cost= 0.085620075 W= 0.30448925 b= 0.424088\n",
            "Epoch: 0600 cost= 0.083745718 W= 0.29844427 b= 0.46694416\n",
            "Epoch: 0700 cost= 0.082275577 W= 0.29309064 b= 0.50489885\n",
            "Epoch: 0800 cost= 0.081122518 W= 0.2883494 b= 0.5385123\n",
            "Epoch: 0900 cost= 0.080218114 W= 0.28415036 b= 0.5682814\n",
            "Epoch: 1000 cost= 0.079508737 W= 0.28043157 b= 0.5946461\n"
          ],
          "name": "stdout"
        },
        {
          "output_type": "display_data",
          "data": {
            "image/png": "[encoded data removed]",
            "text/plain": [
              "<Figure size 432x288 with 1 Axes>"
            ]
          },
          "metadata": {
            "tags": []
          }
        }
      ]
    }
  ]
}
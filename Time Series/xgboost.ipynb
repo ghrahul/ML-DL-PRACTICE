{
  "nbformat": 4,
  "nbformat_minor": 0,
  "metadata": {
    "colab": {
      "name": "xgboost.ipynb",
      "provenance": [],
      "authorship_tag": "ABX9TyNrdj2qm6NyEzyVE5l30YE1",
      "include_colab_link": true
    },
    "kernelspec": {
      "name": "python3",
      "display_name": "Python 3"
    }
  },
  "cells": [
    {
      "cell_type": "markdown",
      "metadata": {
        "id": "view-in-github",
        "colab_type": "text"
      },
      "source": [
        "<a href=\"https://colab.research.google.com/github/ghrahul/ML-DL-PRACTICE/blob/master/Time%20Series/xgboost.ipynb\" target=\"_parent\"><img src=\"https://colab.research.google.com/assets/colab-badge.svg\" alt=\"Open In Colab\"/></a>"
      ]
    },
    {
      "cell_type": "code",
      "metadata": {
        "id": "byOgczQhO2eO",
        "colab_type": "code",
        "colab": {}
      },
      "source": [
        "from sklearn import datasets\n",
        "import xgboost as xgb\n",
        "\n",
        "iris = datasets.load_iris()\n",
        "x = iris.data\n",
        "y = iris.target"
      ],
      "execution_count": 0,
      "outputs": []
    },
    {
      "cell_type": "code",
      "metadata": {
        "id": "QSld1QgZPLtk",
        "colab_type": "code",
        "colab": {}
      },
      "source": [
        "from sklearn.model_selection import train_test_split\n",
        "\n",
        "x_train, x_test, y_train, y_test = train_test_split(x, y)\n",
        "\n"
      ],
      "execution_count": 0,
      "outputs": []
    },
    {
      "cell_type": "code",
      "metadata": {
        "id": "H2D7XlLLPUGD",
        "colab_type": "code",
        "colab": {}
      },
      "source": [
        "d_train = xgb.DMatrix(x_train, label=y_train)\n",
        "d_test = xgb.DMatrix(x_test, label=y_test)\n",
        "\n"
      ],
      "execution_count": 0,
      "outputs": []
    },
    {
      "cell_type": "code",
      "metadata": {
        "id": "1FWl47ZqPaO_",
        "colab_type": "code",
        "colab": {}
      },
      "source": [
        "  param = {\n",
        "    'eta': 0.3, \n",
        "    'max_depth': 3,  \n",
        "    'objective': 'multi:softprob',  \n",
        "    'num_class': 3} \n",
        "\n",
        "steps = 20"
      ],
      "execution_count": 0,
      "outputs": []
    },
    {
      "cell_type": "code",
      "metadata": {
        "id": "HrxXbOWmPekE",
        "colab_type": "code",
        "colab": {}
      },
      "source": [
        "model = xgb.train(param, d_train, steps)"
      ],
      "execution_count": 0,
      "outputs": []
    },
    {
      "cell_type": "code",
      "metadata": {
        "id": "hh11n9isPhqq",
        "colab_type": "code",
        "outputId": "d9c39bb0-6e65-4b1b-a2d5-ebaa9aeb304a",
        "colab": {
          "base_uri": "https://localhost:8080/",
          "height": 69
        }
      },
      "source": [
        "import numpy as np\n",
        "from sklearn.metrics import precision_score, recall_score, accuracy_score\n",
        "\n",
        "preds = model.predict(d_test)\n",
        "best_preds =  np.asarray([np.argmax(line) for line in preds])\n",
        "\n",
        "print(\"Precision = {}\".format(precision_score(y_test, best_preds, average='macro')))\n",
        "print(\"Recall = {}\".format(recall_score(y_test, best_preds, average='macro')))\n",
        "print(\"Accuracy = {}\".format(accuracy_score(y_test, best_preds)))"
      ],
      "execution_count": 0,
      "outputs": [
        {
          "output_type": "stream",
          "text": [
            "Precision = 0.9696969696969697\n",
            "Recall = 0.9803921568627452\n",
            "Accuracy = 0.9736842105263158\n"
          ],
          "name": "stdout"
        }
      ]
    },
    {
      "cell_type": "code",
      "metadata": {
        "id": "zC_6GpWtUYPP",
        "colab_type": "code",
        "colab": {}
      },
      "source": [
        "model.dump_model('dump.raw.txt')"
      ],
      "execution_count": 0,
      "outputs": []
    }
  ]
}
{
  "nbformat": 4,
  "nbformat_minor": 0,
  "metadata": {
    "colab": {
      "name": "basic_eager_api.ipynb",
      "version": "0.3.2",
      "provenance": [],
      "collapsed_sections": [],
      "include_colab_link": true
    },
    "kernelspec": {
      "name": "python3",
      "display_name": "Python 3"
    }
  },
  "cells": [
    {
      "cell_type": "markdown",
      "metadata": {
        "id": "view-in-github",
        "colab_type": "text"
      },
      "source": [
        "<a href=\"https://colab.research.google.com/github/ghrahul/Machine_learning_and_deep_learning_tutorial_and_practice/blob/master/introduction_to_tensorflow/basic_eager_api.ipynb\" target=\"_parent\"><img src=\"https://colab.research.google.com/assets/colab-badge.svg\" alt=\"Open In Colab\"/></a>"
      ]
    },
    {
      "metadata": {
        "id": "0OSb8KEqDaY8",
        "colab_type": "text"
      },
      "cell_type": "markdown",
      "source": [
        "What is TensorFlow's Eager API ?\n",
        "\n",
        "Eager execution is an imperative, define-by-run interface where operations are executed immediately as they are called from Python. This makes it easier to get started with TensorFlow, and can make research and development more intuitive. A vast majority of the TensorFlow API remains the same whether eager execution is enabled or not. As a result, the exact same code that constructs TensorFlow graphs (e.g. using the layers API) can be executed imperatively by using eager execution. Conversely, most models written with Eager enabled can be converted to a graph that can be further optimized and/or extracted for deployment in production without changing code. - Rajat Monga"
      ]
    },
    {
      "metadata": {
        "id": "bx1Qm037De2t",
        "colab_type": "code",
        "colab": {}
      },
      "cell_type": "code",
      "source": [
        "from __future__ import absolute_import, division, print_function\n",
        "\n",
        "import numpy as np\n",
        "import tensorflow as tf\n"
      ],
      "execution_count": 0,
      "outputs": []
    },
    {
      "metadata": {
        "id": "pwXfWFUMEaJw",
        "colab_type": "code",
        "colab": {
          "base_uri": "https://localhost:8080/",
          "height": 146
        },
        "outputId": "d64bb52e-2a10-44c8-ee83-70256e02ea2d"
      },
      "cell_type": "code",
      "source": [
        "#setting eager api\n",
        "tf.enable_eager_execution()\n",
        "tfe = tf.contrib.eager"
      ],
      "execution_count": 3,
      "outputs": [
        {
          "output_type": "stream",
          "text": [
            "\n",
            "WARNING: The TensorFlow contrib module will not be included in TensorFlow 2.0.\n",
            "For more information, please see:\n",
            "  * https://github.com/tensorflow/community/blob/master/rfcs/20180907-contrib-sunset.md\n",
            "  * https://github.com/tensorflow/addons\n",
            "If you depend on functionality not listed there, please file an issue.\n",
            "\n"
          ],
          "name": "stdout"
        }
      ]
    },
    {
      "metadata": {
        "id": "RzYT1bCTE3jh",
        "colab_type": "code",
        "colab": {
          "base_uri": "https://localhost:8080/",
          "height": 54
        },
        "outputId": "0b3ca23b-cec2-4c2a-a10c-dca41987a389"
      },
      "cell_type": "code",
      "source": [
        "#defining constant\n",
        "a = tf.constant(2)\n",
        "b = tf.constant(3)\n",
        "print(\"a: %i\" % 2)\n",
        "print(\"b: %i\" %b)"
      ],
      "execution_count": 6,
      "outputs": [
        {
          "output_type": "stream",
          "text": [
            "a: 2\n",
            "b: 3\n"
          ],
          "name": "stdout"
        }
      ]
    },
    {
      "metadata": {
        "id": "6MOWIDpGFYnD",
        "colab_type": "code",
        "colab": {
          "base_uri": "https://localhost:8080/",
          "height": 54
        },
        "outputId": "55d572b4-bf6b-4751-ebca-763078911426"
      },
      "cell_type": "code",
      "source": [
        "#operations\n",
        "c = a + b\n",
        "d = a*b\n",
        "print(c)\n",
        "print(d)"
      ],
      "execution_count": 7,
      "outputs": [
        {
          "output_type": "stream",
          "text": [
            "tf.Tensor(5, shape=(), dtype=int32)\n",
            "tf.Tensor(6, shape=(), dtype=int32)\n"
          ],
          "name": "stdout"
        }
      ]
    },
    {
      "metadata": {
        "id": "XOoIP8XCGOFT",
        "colab_type": "code",
        "colab": {
          "base_uri": "https://localhost:8080/",
          "height": 164
        },
        "outputId": "1d2c5a59-7c5e-4d8b-c69f-73b34a785412"
      },
      "cell_type": "code",
      "source": [
        "# Full compatibility with Numpy\n",
        "print(\"Mixing operations with Tensors and Numpy Arrays\")\n",
        "\n",
        "# Define constant tensors\n",
        "a = tf.constant([[2., 1.],\n",
        "                 [1., 0.]], dtype=tf.float32)\n",
        "print(\"Tensor:\\n a = %s\" % a)\n",
        "b = np.array([[3., 0.],\n",
        "              [5., 1.]], dtype=np.float32)\n",
        "print(\"NumpyArray:\\n b = %s\" % b)"
      ],
      "execution_count": 8,
      "outputs": [
        {
          "output_type": "stream",
          "text": [
            "Mixing operations with Tensors and Numpy Arrays\n",
            "Tensor:\n",
            " a = tf.Tensor(\n",
            "[[2. 1.]\n",
            " [1. 0.]], shape=(2, 2), dtype=float32)\n",
            "NumpyArray:\n",
            " b = [[3. 0.]\n",
            " [5. 1.]]\n"
          ],
          "name": "stdout"
        }
      ]
    },
    {
      "metadata": {
        "id": "N-IWftUbGoLr",
        "colab_type": "code",
        "colab": {
          "base_uri": "https://localhost:8080/",
          "height": 127
        },
        "outputId": "ca58d97c-27d8-4866-8861-890747434465"
      },
      "cell_type": "code",
      "source": [
        "#running operations without tensorflow session\n",
        "c = a + b\n",
        "d = tf.matmul(a,b)\n",
        "print(c)\n",
        "print(d)"
      ],
      "execution_count": 9,
      "outputs": [
        {
          "output_type": "stream",
          "text": [
            "tf.Tensor(\n",
            "[[5. 1.]\n",
            " [6. 1.]], shape=(2, 2), dtype=float32)\n",
            "tf.Tensor(\n",
            "[[11.  1.]\n",
            " [ 3.  0.]], shape=(2, 2), dtype=float32)\n"
          ],
          "name": "stdout"
        }
      ]
    },
    {
      "metadata": {
        "id": "9wp4K8l6HGmM",
        "colab_type": "code",
        "colab": {
          "base_uri": "https://localhost:8080/",
          "height": 109
        },
        "outputId": "564c9b1b-3cef-44aa-aaf7-3805173710fa"
      },
      "cell_type": "code",
      "source": [
        "#iterate through tensor a\n",
        "for i in range(a.shape[0]):\n",
        "    for j in range(a.shape[1]):\n",
        "        print(a[i][j])"
      ],
      "execution_count": 11,
      "outputs": [
        {
          "output_type": "stream",
          "text": [
            "Iterate through Tensor 'a':\n",
            "tf.Tensor(2.0, shape=(), dtype=float32)\n",
            "tf.Tensor(1.0, shape=(), dtype=float32)\n",
            "tf.Tensor(1.0, shape=(), dtype=float32)\n",
            "tf.Tensor(0.0, shape=(), dtype=float32)\n"
          ],
          "name": "stdout"
        }
      ]
    },
    {
      "metadata": {
        "id": "m4zu-HeaFMFR",
        "colab_type": "code",
        "colab": {}
      },
      "cell_type": "code",
      "source": [
        ""
      ],
      "execution_count": 0,
      "outputs": []
    }
  ]
}
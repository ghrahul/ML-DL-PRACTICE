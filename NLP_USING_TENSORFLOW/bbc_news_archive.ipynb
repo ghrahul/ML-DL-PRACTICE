{
  "nbformat": 4,
  "nbformat_minor": 0,
  "metadata": {
    "accelerator": "GPU",
    "colab": {
      "name": "bbc_news_archive.ipynb",
      "provenance": [],
      "toc_visible": true,
      "include_colab_link": true
    },
    "kernelspec": {
      "display_name": "Python 3",
      "name": "python3"
    }
  },
  "cells": [
    {
      "cell_type": "markdown",
      "metadata": {
        "id": "view-in-github",
        "colab_type": "text"
      },
      "source": [
        "<a href=\"https://colab.research.google.com/github/ghrahul/ML-DL-PRACTICE/blob/master/NLP_USING_TENSORFLOW/bbc_news_archive.ipynb\" target=\"_parent\"><img src=\"https://colab.research.google.com/assets/colab-badge.svg\" alt=\"Open In Colab\"/></a>"
      ]
    },
    {
      "cell_type": "code",
      "metadata": {
        "colab_type": "code",
        "id": "gnwiOnGyW5JK",
        "outputId": "bbe42636-983f-4459-b5a3-4a3f14903e5b",
        "colab": {
          "base_uri": "https://localhost:8080/",
          "height": 208
        }
      },
      "source": [
        "import csv\n",
        "import tensorflow as tf\n",
        "import numpy as np\n",
        "from tensorflow.keras.preprocessing.text import Tokenizer\n",
        "from tensorflow.keras.preprocessing.sequence import pad_sequences\n",
        "\n",
        "!wget --no-check-certificate \\\n",
        "    https://storage.googleapis.com/laurencemoroney-blog.appspot.com/bbc-text.csv \\\n",
        "    -O /tmp/bbc-text.csv"
      ],
      "execution_count": 0,
      "outputs": [
        {
          "output_type": "stream",
          "text": [
            "--2020-05-03 13:35:05--  https://storage.googleapis.com/laurencemoroney-blog.appspot.com/bbc-text.csv\n",
            "Resolving storage.googleapis.com (storage.googleapis.com)... 216.58.193.208, 2607:f8b0:4007:80b::2010\n",
            "Connecting to storage.googleapis.com (storage.googleapis.com)|216.58.193.208|:443... connected.\n",
            "HTTP request sent, awaiting response... 200 OK\n",
            "Length: 5057493 (4.8M) [application/octet-stream]\n",
            "Saving to: ‘/tmp/bbc-text.csv’\n",
            "\n",
            "\r/tmp/bbc-text.csv     0%[                    ]       0  --.-KB/s               \r/tmp/bbc-text.csv   100%[===================>]   4.82M  --.-KB/s    in 0.07s   \n",
            "\n",
            "2020-05-03 13:35:05 (65.1 MB/s) - ‘/tmp/bbc-text.csv’ saved [5057493/5057493]\n",
            "\n"
          ],
          "name": "stdout"
        }
      ]
    },
    {
      "cell_type": "code",
      "metadata": {
        "colab_type": "code",
        "id": "EYo6A4v5ZABQ",
        "colab": {}
      },
      "source": [
        "vocab_size = 1000\n",
        "embedding_dim = 16\n",
        "max_length = 120\n",
        "trunc_type = \"post\"\n",
        "padding_type = \"post\"\n",
        "oov_tok = \"<OOV>\"\n",
        "training_portion = .8"
      ],
      "execution_count": 0,
      "outputs": []
    },
    {
      "cell_type": "code",
      "metadata": {
        "colab_type": "code",
        "id": "iU1qq3_SZBx_",
        "outputId": "1bf8aa57-f8ae-4b2b-e40c-5519a3913e56",
        "colab": {
          "base_uri": "https://localhost:8080/",
          "height": 35
        }
      },
      "source": [
        "sentences = []\n",
        "labels = []\n",
        "stopwords = [ \"a\", \"about\", \"above\", \"after\", \"again\", \"against\", \"all\", \"am\", \"an\", \"and\", \"any\", \"are\", \"as\", \"at\", \"be\", \"because\", \"been\", \"before\", \"being\", \"below\", \"between\", \"both\", \"but\", \"by\", \"could\", \"did\", \"do\", \"does\", \"doing\", \"down\", \"during\", \"each\", \"few\", \"for\", \"from\", \"further\", \"had\", \"has\", \"have\", \"having\", \"he\", \"he'd\", \"he'll\", \"he's\", \"her\", \"here\", \"here's\", \"hers\", \"herself\", \"him\", \"himself\", \"his\", \"how\", \"how's\", \"i\", \"i'd\", \"i'll\", \"i'm\", \"i've\", \"if\", \"in\", \"into\", \"is\", \"it\", \"it's\", \"its\", \"itself\", \"let's\", \"me\", \"more\", \"most\", \"my\", \"myself\", \"nor\", \"of\", \"on\", \"once\", \"only\", \"or\", \"other\", \"ought\", \"our\", \"ours\", \"ourselves\", \"out\", \"over\", \"own\", \"same\", \"she\", \"she'd\", \"she'll\", \"she's\", \"should\", \"so\", \"some\", \"such\", \"than\", \"that\", \"that's\", \"the\", \"their\", \"theirs\", \"them\", \"themselves\", \"then\", \"there\", \"there's\", \"these\", \"they\", \"they'd\", \"they'll\", \"they're\", \"they've\", \"this\", \"those\", \"through\", \"to\", \"too\", \"under\", \"until\", \"up\", \"very\", \"was\", \"we\", \"we'd\", \"we'll\", \"we're\", \"we've\", \"were\", \"what\", \"what's\", \"when\", \"when's\", \"where\", \"where's\", \"which\", \"while\", \"who\", \"who's\", \"whom\", \"why\", \"why's\", \"with\", \"would\", \"you\", \"you'd\", \"you'll\", \"you're\", \"you've\", \"your\", \"yours\", \"yourself\", \"yourselves\" ]\n",
        "print(len(stopwords))\n",
        "# Expected Output\n",
        "# 153"
      ],
      "execution_count": 0,
      "outputs": [
        {
          "output_type": "stream",
          "text": [
            "153\n"
          ],
          "name": "stdout"
        }
      ]
    },
    {
      "cell_type": "code",
      "metadata": {
        "colab_type": "code",
        "id": "eutB2xMiZD0e",
        "outputId": "4f583fa8-b69f-4ffe-836f-52da4ffe6d12",
        "colab": {
          "base_uri": "https://localhost:8080/",
          "height": 89
        }
      },
      "source": [
        "with open(\"/tmp/bbc-text.csv\", 'r') as csvfile:\n",
        "    csv_reader = csv.reader(csvfile, delimiter=',')\n",
        "    next(csv_reader, None)\n",
        "    \n",
        "    for row in csv_reader:\n",
        "        labels.append(row[0])\n",
        "        sentence = row[1]\n",
        "        \n",
        "        for word in stopwords:\n",
        "            token = ' ' + word + ' '\n",
        "            sentence = sentence.replace(token, ' ').replace('  ', ' ')\n",
        "            \n",
        "        sentences.append(sentence)\n",
        "\n",
        "    \n",
        "print(len(labels))\n",
        "print(len(sentences))\n",
        "print(sentences[0])\n",
        "# Expected Output\n",
        "# 2225\n",
        "# 2225\n",
        "# tv future hands viewers home theatre systems  plasma high-definition tvs  digital video recorders moving living room  way people watch tv will radically different five years  time.  according expert panel gathered annual consumer electronics show las vegas discuss new technologies will impact one favourite pastimes. us leading trend  programmes content will delivered viewers via home networks  cable  satellite  telecoms companies  broadband service providers front rooms portable devices.  one talked-about technologies ces digital personal video recorders (dvr pvr). set-top boxes  like us s tivo uk s sky+ system  allow people record  store  play  pause forward wind tv programmes want.  essentially  technology allows much personalised tv. also built-in high-definition tv sets  big business japan us  slower take off europe lack high-definition programming. not can people forward wind adverts  can also forget abiding network channel schedules  putting together a-la-carte entertainment. us networks cable satellite companies worried means terms advertising revenues well  brand identity  viewer loyalty channels. although us leads technology moment  also concern raised europe  particularly growing uptake services like sky+.  happens today  will see nine months years  time uk   adam hume  bbc broadcast s futurologist told bbc news website. likes bbc  no issues lost advertising revenue yet. pressing issue moment commercial uk broadcasters  brand loyalty important everyone.  will talking content brands rather network brands   said tim hanlon  brand communications firm starcom mediavest.  reality broadband connections  anybody can producer content.  added:  challenge now hard promote programme much choice.   means  said stacey jolna  senior vice president tv guide tv group  way people find content want watch simplified tv viewers. means networks  us terms  channels take leaf google s book search engine future  instead scheduler help people find want watch. kind channel model might work younger ipod generation used taking control gadgets play them. might not suit everyone  panel recognised. older generations comfortable familiar schedules channel brands know getting. perhaps not want much choice put hands  mr hanlon suggested.  end  kids just diapers pushing buttons already - everything possible available   said mr hanlon.  ultimately  consumer will tell market want.   50 000 new gadgets technologies showcased ces  many enhancing tv-watching experience. high-definition tv sets everywhere many new models lcd (liquid crystal display) tvs launched dvr capability built  instead external boxes. one example launched show humax s 26-inch lcd tv 80-hour tivo dvr dvd recorder. one us s biggest satellite tv companies  directtv  even launched branded dvr show 100-hours recording capability  instant replay  search function. set can pause rewind tv 90 hours. microsoft chief bill gates announced pre-show keynote speech partnership tivo  called tivotogo  means people can play recorded programmes windows pcs mobile devices. reflect increasing trend freeing multimedia people can watch want  want."
      ],
      "execution_count": 0,
      "outputs": [
        {
          "output_type": "stream",
          "text": [
            "2225\n",
            "2225\n",
            "tv future hands viewers home theatre systems plasma high-definition tvs digital video recorders moving living room way people watch tv will radically different five years time. according expert panel gathered annual consumer electronics show las vegas discuss new technologies will impact one favourite pastimes. us leading trend programmes content will delivered viewers via home networks cable satellite telecoms companies broadband service providers front rooms portable devices. one talked-about technologies ces digital personal video recorders (dvr pvr). set-top boxes like us s tivo uk s sky+ system allow people record store play pause forward wind tv programmes want. essentially technology allows much personalised tv. also built-in high-definition tv sets big business japan us slower take off europe lack high-definition programming. not can people forward wind adverts can also forget abiding network channel schedules putting together a-la-carte entertainment. us networks cable satellite companies worried means terms advertising revenues well brand identity viewer loyalty channels. although us leads technology moment also concern raised europe particularly growing uptake services like sky+. happens today will see nine months years time uk adam hume bbc broadcast s futurologist told bbc news website. likes bbc no issues lost advertising revenue yet. pressing issue moment commercial uk broadcasters brand loyalty important everyone. will talking content brands rather network brands said tim hanlon brand communications firm starcom mediavest. reality broadband connections anybody can producer content. added: challenge now hard promote programme much choice. means said stacey jolna senior vice president tv guide tv group way people find content want watch simplified tv viewers. means networks us terms channels take leaf google s book search engine future instead scheduler help people find want watch. kind channel model might work younger ipod generation used taking control gadgets play them. might not suit everyone panel recognised. older generations comfortable familiar schedules channel brands know getting. perhaps not want much choice put hands mr hanlon suggested. end kids just diapers pushing buttons already - everything possible available said mr hanlon. ultimately consumer will tell market want. 50 000 new gadgets technologies showcased ces many enhancing tv-watching experience. high-definition tv sets everywhere many new models lcd (liquid crystal display) tvs launched dvr capability built instead external boxes. one example launched show humax s 26-inch lcd tv 80-hour tivo dvr dvd recorder. one us s biggest satellite tv companies directtv even launched branded dvr show 100-hours recording capability instant replay search function. set can pause rewind tv 90 hours. microsoft chief bill gates announced pre-show keynote speech partnership tivo called tivotogo means people can play recorded programmes windows pcs mobile devices. reflect increasing trend freeing multimedia people can watch want want.\n"
          ],
          "name": "stdout"
        }
      ]
    },
    {
      "cell_type": "code",
      "metadata": {
        "colab_type": "code",
        "id": "XfdaWh06ZGe3",
        "outputId": "484bc8cb-a912-475a-d173-292507473ea2",
        "colab": {
          "base_uri": "https://localhost:8080/",
          "height": 104
        }
      },
      "source": [
        "train_size = int(len(sentences) * training_portion)\n",
        "\n",
        "train_sentences = sentences[:train_size]\n",
        "train_labels = labels[:train_size]\n",
        "\n",
        "validation_sentences = sentences[train_size:]\n",
        "validation_labels = labels[train_size:]\n",
        "\n",
        "print(train_size)\n",
        "print(len(train_sentences))\n",
        "print(len(train_labels))\n",
        "print(len(validation_sentences))\n",
        "print(len(validation_labels))\n",
        "\n",
        "# Expected output (if training_portion=.8)\n",
        "# 1780\n",
        "# 1780\n",
        "# 1780\n",
        "# 445\n",
        "# 445"
      ],
      "execution_count": 0,
      "outputs": [
        {
          "output_type": "stream",
          "text": [
            "1780\n",
            "1780\n",
            "1780\n",
            "445\n",
            "445\n"
          ],
          "name": "stdout"
        }
      ]
    },
    {
      "cell_type": "code",
      "metadata": {
        "colab_type": "code",
        "id": "ULzA8xhwZI22",
        "outputId": "f7ff2176-e6cd-42d7-ef8e-8cd306b58c5d",
        "colab": {
          "base_uri": "https://localhost:8080/",
          "height": 121
        }
      },
      "source": [
        "tokenizer = Tokenizer(\n",
        "    num_words=vocab_size,\n",
        "    oov_token=oov_tok\n",
        ")\n",
        "tokenizer.fit_on_texts(train_sentences)\n",
        "word_index = tokenizer.word_index\n",
        "\n",
        "train_sequences = tokenizer.texts_to_sequences(train_sentences)\n",
        "\n",
        "train_padded = pad_sequences(\n",
        "    train_sequences,\n",
        "    padding=padding_type,\n",
        "    maxlen=max_length\n",
        ")\n",
        "\n",
        "print(len(train_sequences[0]))\n",
        "print(len(train_padded[0]))\n",
        "\n",
        "print(len(train_sequences[1]))\n",
        "print(len(train_padded[1]))\n",
        "\n",
        "print(len(train_sequences[10]))\n",
        "print(len(train_padded[10]))\n",
        "\n",
        "# Expected Ouput\n",
        "# 449\n",
        "# 120\n",
        "# 200\n",
        "# 120\n",
        "# 192\n",
        "# 120"
      ],
      "execution_count": 0,
      "outputs": [
        {
          "output_type": "stream",
          "text": [
            "449\n",
            "120\n",
            "200\n",
            "120\n",
            "192\n",
            "120\n"
          ],
          "name": "stdout"
        }
      ]
    },
    {
      "cell_type": "code",
      "metadata": {
        "colab_type": "code",
        "id": "c8PeFWzPZLW_",
        "outputId": "3ad8c12c-9fad-488a-d82f-f055d5b46c89",
        "colab": {
          "base_uri": "https://localhost:8080/",
          "height": 52
        }
      },
      "source": [
        "validation_sequences = tokenizer.texts_to_sequences(validation_sentences)\n",
        "validation_padded = pad_sequences(\n",
        "    validation_sequences,\n",
        "    padding=padding_type,\n",
        "    maxlen=max_length\n",
        ")\n",
        "\n",
        "print(len(validation_sequences))\n",
        "print(validation_padded.shape)\n",
        "\n",
        "# Expected output\n",
        "# 445\n",
        "# (445, 120)"
      ],
      "execution_count": 0,
      "outputs": [
        {
          "output_type": "stream",
          "text": [
            "445\n",
            "(445, 120)\n"
          ],
          "name": "stdout"
        }
      ]
    },
    {
      "cell_type": "code",
      "metadata": {
        "colab_type": "code",
        "id": "XkWiQ_FKZNp2",
        "outputId": "6de7a8c8-712f-41ad-ae8a-c537f94598c7",
        "colab": {
          "base_uri": "https://localhost:8080/",
          "height": 156
        }
      },
      "source": [
        "label_tokenizer = Tokenizer()\n",
        "label_tokenizer.fit_on_texts(labels)\n",
        "\n",
        "training_label_seq = np.array(label_tokenizer.texts_to_sequences(train_labels))\n",
        "validation_label_seq = np.array(label_tokenizer.texts_to_sequences(validation_labels))\n",
        "\n",
        "print(training_label_seq[0])\n",
        "print(training_label_seq[1])\n",
        "print(training_label_seq[2])\n",
        "print(training_label_seq.shape)\n",
        "\n",
        "print(validation_label_seq[0])\n",
        "print(validation_label_seq[1])\n",
        "print(validation_label_seq[2])\n",
        "print(validation_label_seq.shape)\n",
        "# Expected output\n",
        "# [4]\n",
        "# [2]\n",
        "# [1]\n",
        "# (1780, 1)\n",
        "# [5]\n",
        "# [4]\n",
        "# [3]\n",
        "# (445, 1)"
      ],
      "execution_count": 0,
      "outputs": [
        {
          "output_type": "stream",
          "text": [
            "[4]\n",
            "[2]\n",
            "[1]\n",
            "(1780, 1)\n",
            "[5]\n",
            "[4]\n",
            "[3]\n",
            "(445, 1)\n"
          ],
          "name": "stdout"
        }
      ]
    },
    {
      "cell_type": "code",
      "metadata": {
        "colab_type": "code",
        "id": "HZ5um4MWZP-W",
        "outputId": "5a6d11a7-f062-48f8-9d19-c065f3ff8f4d",
        "colab": {
          "base_uri": "https://localhost:8080/",
          "height": 295
        }
      },
      "source": [
        "model = tf.keras.Sequential([\n",
        "    tf.keras.layers.Embedding(vocab_size, embedding_dim, input_length=max_length),\n",
        "    tf.keras.layers.GlobalAveragePooling1D(),\n",
        "    tf.keras.layers.Dense(24, activation='relu'),\n",
        "    tf.keras.layers.Dense(6, activation='softmax')\n",
        "])\n",
        "model.compile(loss='sparse_categorical_crossentropy',optimizer='adam',metrics=['accuracy'])\n",
        "model.summary()\n",
        "\n",
        "\n",
        "# Expected Output\n",
        "# Layer (type)                 Output Shape              Param #   \n",
        "# =================================================================\n",
        "# embedding (Embedding)        (None, 120, 16)           16000     \n",
        "# _________________________________________________________________\n",
        "# global_average_pooling1d (Gl (None, 16)                0         \n",
        "# _________________________________________________________________\n",
        "# dense (Dense)                (None, 24)                408       \n",
        "# _________________________________________________________________\n",
        "# dense_1 (Dense)              (None, 6)                 150       \n",
        "# =================================================================\n",
        "# Total params: 16,558\n",
        "# Trainable params: 16,558\n",
        "# Non-trainable params: 0"
      ],
      "execution_count": 0,
      "outputs": [
        {
          "output_type": "stream",
          "text": [
            "Model: \"sequential\"\n",
            "_________________________________________________________________\n",
            "Layer (type)                 Output Shape              Param #   \n",
            "=================================================================\n",
            "embedding (Embedding)        (None, 120, 16)           16000     \n",
            "_________________________________________________________________\n",
            "global_average_pooling1d (Gl (None, 16)                0         \n",
            "_________________________________________________________________\n",
            "dense (Dense)                (None, 24)                408       \n",
            "_________________________________________________________________\n",
            "dense_1 (Dense)              (None, 6)                 150       \n",
            "=================================================================\n",
            "Total params: 16,558\n",
            "Trainable params: 16,558\n",
            "Non-trainable params: 0\n",
            "_________________________________________________________________\n"
          ],
          "name": "stdout"
        }
      ]
    },
    {
      "cell_type": "code",
      "metadata": {
        "colab_type": "code",
        "id": "XsfdxySKZSXu",
        "outputId": "6d5dab0b-b140-443c-f7c3-f81350749f33",
        "colab": {
          "base_uri": "https://localhost:8080/",
          "height": 1000
        }
      },
      "source": [
        "num_epochs = 30\n",
        "history = model.fit(\n",
        "    train_padded,\n",
        "    training_label_seq,\n",
        "    epochs=num_epochs,\n",
        "    validation_data=(validation_padded, validation_label_seq),\n",
        "    verbose=2\n",
        ")"
      ],
      "execution_count": 0,
      "outputs": [
        {
          "output_type": "stream",
          "text": [
            "Epoch 1/30\n",
            "56/56 - 0s - loss: 1.7496 - accuracy: 0.2287 - val_loss: 1.7042 - val_accuracy: 0.2382\n",
            "Epoch 2/30\n",
            "56/56 - 0s - loss: 1.6560 - accuracy: 0.2697 - val_loss: 1.6092 - val_accuracy: 0.3775\n",
            "Epoch 3/30\n",
            "56/56 - 0s - loss: 1.5553 - accuracy: 0.4242 - val_loss: 1.5085 - val_accuracy: 0.4494\n",
            "Epoch 4/30\n",
            "56/56 - 0s - loss: 1.4310 - accuracy: 0.4539 - val_loss: 1.3737 - val_accuracy: 0.4921\n",
            "Epoch 5/30\n",
            "56/56 - 0s - loss: 1.2683 - accuracy: 0.5461 - val_loss: 1.2084 - val_accuracy: 0.5730\n",
            "Epoch 6/30\n",
            "56/56 - 0s - loss: 1.0860 - accuracy: 0.6949 - val_loss: 1.0338 - val_accuracy: 0.7551\n",
            "Epoch 7/30\n",
            "56/56 - 0s - loss: 0.8952 - accuracy: 0.8337 - val_loss: 0.8644 - val_accuracy: 0.8157\n",
            "Epoch 8/30\n",
            "56/56 - 0s - loss: 0.7241 - accuracy: 0.8854 - val_loss: 0.7231 - val_accuracy: 0.8652\n",
            "Epoch 9/30\n",
            "56/56 - 0s - loss: 0.5833 - accuracy: 0.9135 - val_loss: 0.6100 - val_accuracy: 0.8742\n",
            "Epoch 10/30\n",
            "56/56 - 0s - loss: 0.4746 - accuracy: 0.9348 - val_loss: 0.5282 - val_accuracy: 0.8809\n",
            "Epoch 11/30\n",
            "56/56 - 0s - loss: 0.3932 - accuracy: 0.9416 - val_loss: 0.4644 - val_accuracy: 0.8966\n",
            "Epoch 12/30\n",
            "56/56 - 0s - loss: 0.3291 - accuracy: 0.9517 - val_loss: 0.4186 - val_accuracy: 0.9011\n",
            "Epoch 13/30\n",
            "56/56 - 0s - loss: 0.2805 - accuracy: 0.9551 - val_loss: 0.3752 - val_accuracy: 0.9079\n",
            "Epoch 14/30\n",
            "56/56 - 0s - loss: 0.2367 - accuracy: 0.9618 - val_loss: 0.3455 - val_accuracy: 0.9124\n",
            "Epoch 15/30\n",
            "56/56 - 0s - loss: 0.2034 - accuracy: 0.9652 - val_loss: 0.3199 - val_accuracy: 0.9146\n",
            "Epoch 16/30\n",
            "56/56 - 0s - loss: 0.1785 - accuracy: 0.9691 - val_loss: 0.3005 - val_accuracy: 0.9191\n",
            "Epoch 17/30\n",
            "56/56 - 0s - loss: 0.1560 - accuracy: 0.9753 - val_loss: 0.2857 - val_accuracy: 0.9258\n",
            "Epoch 18/30\n",
            "56/56 - 0s - loss: 0.1382 - accuracy: 0.9781 - val_loss: 0.2745 - val_accuracy: 0.9281\n",
            "Epoch 19/30\n",
            "56/56 - 0s - loss: 0.1244 - accuracy: 0.9809 - val_loss: 0.2656 - val_accuracy: 0.9303\n",
            "Epoch 20/30\n",
            "56/56 - 0s - loss: 0.1099 - accuracy: 0.9843 - val_loss: 0.2562 - val_accuracy: 0.9326\n",
            "Epoch 21/30\n",
            "56/56 - 0s - loss: 0.0980 - accuracy: 0.9871 - val_loss: 0.2510 - val_accuracy: 0.9348\n",
            "Epoch 22/30\n",
            "56/56 - 0s - loss: 0.0886 - accuracy: 0.9904 - val_loss: 0.2437 - val_accuracy: 0.9348\n",
            "Epoch 23/30\n",
            "56/56 - 0s - loss: 0.0794 - accuracy: 0.9899 - val_loss: 0.2425 - val_accuracy: 0.9393\n",
            "Epoch 24/30\n",
            "56/56 - 0s - loss: 0.0722 - accuracy: 0.9933 - val_loss: 0.2342 - val_accuracy: 0.9348\n",
            "Epoch 25/30\n",
            "56/56 - 0s - loss: 0.0655 - accuracy: 0.9949 - val_loss: 0.2321 - val_accuracy: 0.9348\n",
            "Epoch 26/30\n",
            "56/56 - 0s - loss: 0.0592 - accuracy: 0.9955 - val_loss: 0.2274 - val_accuracy: 0.9393\n",
            "Epoch 27/30\n",
            "56/56 - 0s - loss: 0.0544 - accuracy: 0.9972 - val_loss: 0.2292 - val_accuracy: 0.9438\n",
            "Epoch 28/30\n",
            "56/56 - 0s - loss: 0.0487 - accuracy: 0.9978 - val_loss: 0.2240 - val_accuracy: 0.9393\n",
            "Epoch 29/30\n",
            "56/56 - 0s - loss: 0.0440 - accuracy: 0.9978 - val_loss: 0.2240 - val_accuracy: 0.9416\n",
            "Epoch 30/30\n",
            "56/56 - 0s - loss: 0.0404 - accuracy: 0.9983 - val_loss: 0.2242 - val_accuracy: 0.9416\n"
          ],
          "name": "stdout"
        }
      ]
    },
    {
      "cell_type": "code",
      "metadata": {
        "id": "gT6SgLzAyNWE",
        "colab_type": "code",
        "outputId": "9fe693ba-1cdc-4d1b-b123-6f226c803a47",
        "colab": {
          "base_uri": "https://localhost:8080/",
          "height": 1000
        }
      },
      "source": [
        "history.history"
      ],
      "execution_count": 0,
      "outputs": [
        {
          "output_type": "execute_result",
          "data": {
            "text/plain": [
              "{'accuracy': [0.22865168750286102,\n",
              "  0.26966291666030884,\n",
              "  0.4241572916507721,\n",
              "  0.45393258333206177,\n",
              "  0.5460674166679382,\n",
              "  0.6949438452720642,\n",
              "  0.833707869052887,\n",
              "  0.8853932619094849,\n",
              "  0.9134831428527832,\n",
              "  0.934831440448761,\n",
              "  0.9415730237960815,\n",
              "  0.95168536901474,\n",
              "  0.9550561904907227,\n",
              "  0.9617977738380432,\n",
              "  0.9651685357093811,\n",
              "  0.9691011309623718,\n",
              "  0.9752808809280396,\n",
              "  0.9780898690223694,\n",
              "  0.9808988571166992,\n",
              "  0.9842696785926819,\n",
              "  0.9870786666870117,\n",
              "  0.9904494285583496,\n",
              "  0.9898876547813416,\n",
              "  0.9932584166526794,\n",
              "  0.9949437975883484,\n",
              "  0.9955056309700012,\n",
              "  0.9971910119056702,\n",
              "  0.9977527856826782,\n",
              "  0.9977527856826782,\n",
              "  0.998314619064331],\n",
              " 'loss': [1.7495934963226318,\n",
              "  1.6560226678848267,\n",
              "  1.555256962776184,\n",
              "  1.4310133457183838,\n",
              "  1.2683175802230835,\n",
              "  1.0859640836715698,\n",
              "  0.8952439427375793,\n",
              "  0.7241369485855103,\n",
              "  0.5832957625389099,\n",
              "  0.4745821952819824,\n",
              "  0.39321985840797424,\n",
              "  0.32905372977256775,\n",
              "  0.2804906666278839,\n",
              "  0.2367219626903534,\n",
              "  0.2033863216638565,\n",
              "  0.17848141491413116,\n",
              "  0.15597708523273468,\n",
              "  0.13818517327308655,\n",
              "  0.12442029267549515,\n",
              "  0.10994994640350342,\n",
              "  0.09798745065927505,\n",
              "  0.08864990621805191,\n",
              "  0.07935873419046402,\n",
              "  0.07216763496398926,\n",
              "  0.06550978869199753,\n",
              "  0.05915168672800064,\n",
              "  0.054439570754766464,\n",
              "  0.04865458980202675,\n",
              "  0.04396885633468628,\n",
              "  0.04043479636311531],\n",
              " 'val_accuracy': [0.23820224404335022,\n",
              "  0.3775281012058258,\n",
              "  0.449438214302063,\n",
              "  0.49213483929634094,\n",
              "  0.5730336904525757,\n",
              "  0.7550562024116516,\n",
              "  0.8157303333282471,\n",
              "  0.8651685118675232,\n",
              "  0.8741573095321655,\n",
              "  0.8808988928794861,\n",
              "  0.8966292142868042,\n",
              "  0.901123583316803,\n",
              "  0.9078651666641235,\n",
              "  0.9123595356941223,\n",
              "  0.9146067500114441,\n",
              "  0.9191011190414429,\n",
              "  0.9258427023887634,\n",
              "  0.9280899167060852,\n",
              "  0.9303370714187622,\n",
              "  0.932584285736084,\n",
              "  0.934831440448761,\n",
              "  0.934831440448761,\n",
              "  0.9393258690834045,\n",
              "  0.934831440448761,\n",
              "  0.934831440448761,\n",
              "  0.9393258690834045,\n",
              "  0.9438202381134033,\n",
              "  0.9393258690834045,\n",
              "  0.9415730237960815,\n",
              "  0.9415730237960815],\n",
              " 'val_loss': [1.7041720151901245,\n",
              "  1.6092485189437866,\n",
              "  1.5085465908050537,\n",
              "  1.3737136125564575,\n",
              "  1.2084378004074097,\n",
              "  1.033760905265808,\n",
              "  0.8644292950630188,\n",
              "  0.7231201529502869,\n",
              "  0.6099563837051392,\n",
              "  0.5281890034675598,\n",
              "  0.4643709361553192,\n",
              "  0.418561190366745,\n",
              "  0.37520745396614075,\n",
              "  0.3455122411251068,\n",
              "  0.319911926984787,\n",
              "  0.30047348141670227,\n",
              "  0.2857365608215332,\n",
              "  0.2744748294353485,\n",
              "  0.2656296193599701,\n",
              "  0.25620487332344055,\n",
              "  0.2510489225387573,\n",
              "  0.24371348321437836,\n",
              "  0.24248158931732178,\n",
              "  0.23417948186397552,\n",
              "  0.2320910394191742,\n",
              "  0.22744986414909363,\n",
              "  0.22917227447032928,\n",
              "  0.2239772081375122,\n",
              "  0.22395822405815125,\n",
              "  0.22424007952213287]}"
            ]
          },
          "metadata": {
            "tags": []
          },
          "execution_count": 16
        }
      ]
    },
    {
      "cell_type": "code",
      "metadata": {
        "colab_type": "code",
        "id": "dQ0BX2apXS9u",
        "outputId": "69f2dfbf-2d46-4e38-fb71-ff485afc0262",
        "colab": {
          "base_uri": "https://localhost:8080/",
          "height": 541
        }
      },
      "source": [
        "import matplotlib.pyplot as plt\n",
        "\n",
        "\n",
        "def plot_graphs(history, string):\n",
        "  plt.plot(history.history[string])\n",
        "  plt.plot(history.history['val_'+string])\n",
        "  plt.xlabel(\"Epochs\")\n",
        "  plt.ylabel(string)\n",
        "  plt.legend([string, 'val_'+string])\n",
        "  plt.show()\n",
        "  \n",
        "plot_graphs(history, \"accuracy\")\n",
        "plot_graphs(history, \"loss\")"
      ],
      "execution_count": 0,
      "outputs": [
        {
          "output_type": "display_data",
          "data": {
            "image/png": "[encoded data removed]",
            "text/plain": [
              "<Figure size 432x288 with 1 Axes>"
            ]
          },
          "metadata": {
            "tags": [],
            "needs_background": "light"
          }
        },
        {
          "output_type": "display_data",
          "data": {
            "image/png": "[encoded data removed]",
            "text/plain": [
              "<Figure size 432x288 with 1 Axes>"
            ]
          },
          "metadata": {
            "tags": [],
            "needs_background": "light"
          }
        }
      ]
    },
    {
      "cell_type": "code",
      "metadata": {
        "colab_type": "code",
        "id": "w7Xc-uWxXhML",
        "colab": {}
      },
      "source": [
        "reverse_word_index = dict([(value, key) for (key, value) in word_index.items()])\n",
        "\n",
        "def decode_sentence(text):\n",
        "    return ' '.join([reverse_word_index.get(i, '?') for i in text])\n"
      ],
      "execution_count": 0,
      "outputs": []
    },
    {
      "cell_type": "code",
      "metadata": {
        "colab_type": "code",
        "id": "OhnFA_TDXrih",
        "outputId": "49397f0c-7f9d-44d8-a042-4de2424e0000",
        "colab": {
          "base_uri": "https://localhost:8080/",
          "height": 35
        }
      },
      "source": [
        "e = model.layers[0]\n",
        "weights = e.get_weights()[0]\n",
        "print(weights.shape) # shape: (vocab_size, embedding_dim)\n",
        "\n",
        "# Expected output\n",
        "# (1000, 16)"
      ],
      "execution_count": 0,
      "outputs": [
        {
          "output_type": "stream",
          "text": [
            "(1000, 16)\n"
          ],
          "name": "stdout"
        }
      ]
    },
    {
      "cell_type": "code",
      "metadata": {
        "colab_type": "code",
        "id": "_POzcWWAXudL",
        "colab": {}
      },
      "source": [
        "import io\n",
        "\n",
        "out_v = io.open('vecs.tsv', 'w', encoding='utf-8')\n",
        "out_m = io.open('meta.tsv', 'w', encoding='utf-8')\n",
        "for word_num in range(1, vocab_size):\n",
        "  word = reverse_word_index[word_num]\n",
        "  embeddings = weights[word_num]\n",
        "  out_m.write(word + \"\\n\")\n",
        "  out_v.write('\\t'.join([str(x) for x in embeddings]) + \"\\n\")\n",
        "out_v.close()\n",
        "out_m.close()"
      ],
      "execution_count": 0,
      "outputs": []
    },
    {
      "cell_type": "code",
      "metadata": {
        "colab_type": "code",
        "id": "VmqpQMZ_XyOa",
        "colab": {}
      },
      "source": [
        "try:\n",
        "  from google.colab import files\n",
        "except ImportError:\n",
        "  pass\n",
        "else:\n",
        "  files.download('vecs.tsv')\n",
        "  files.download('meta.tsv')"
      ],
      "execution_count": 0,
      "outputs": []
    }
  ]
}
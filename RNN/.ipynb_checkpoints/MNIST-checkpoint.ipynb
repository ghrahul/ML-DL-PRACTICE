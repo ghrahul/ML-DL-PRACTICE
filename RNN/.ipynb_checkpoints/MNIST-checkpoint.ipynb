{
 "cells": [
  {
   "cell_type": "code",
   "execution_count": 7,
   "metadata": {},
   "outputs": [
    {
     "name": "stdout",
     "output_type": "stream",
     "text": [
      "(60000, 28, 28)\n",
      "(28, 28)\n"
     ]
    }
   ],
   "source": [
    "import tensorflow as tf\n",
    "from tensorflow.keras.models import Sequential\n",
    "from tensorflow.keras.layers import Dense, Dropout, LSTM, CuDNNLSTM\n",
    "\n",
    "mnist = tf.keras.datasets.mnist\n",
    "\n",
    "(x_train, y_train), (x_test, y_test) = mnist.load_data()\n",
    "\n",
    "print(x_train.shape) #60000 examples of 28 by 28 images\n",
    "print(x_train[0].shape)\n",
    "\n",
    "x_train = x_train/255.0\n",
    "x_test = x_test/255.0"
   ]
  },
  {
   "cell_type": "code",
   "execution_count": 8,
   "metadata": {},
   "outputs": [
    {
     "name": "stdout",
     "output_type": "stream",
     "text": [
      "Train on 60000 samples, validate on 10000 samples\n",
      "Epoch 1/3\n",
      "60000/60000 [==============================] - 68s 1ms/step - loss: 0.4089 - acc: 0.8752 - val_loss: 0.1107 - val_acc: 0.9656\n",
      "Epoch 2/3\n",
      "60000/60000 [==============================] - 67s 1ms/step - loss: 0.1201 - acc: 0.9688 - val_loss: 0.0936 - val_acc: 0.9740\n",
      "Epoch 3/3\n",
      "60000/60000 [==============================] - 69s 1ms/step - loss: 0.0832 - acc: 0.9781 - val_loss: 0.0809 - val_acc: 0.9800 - ETA: 2s - loss: 0.0837 - acc - ETA: 1s - loss: 0.0833 - acc: 0. - ETA: 1s - loss: 0.0832 - acc: 0.97 - ETA: 1s - loss: 0.083 - ETA: 0s - loss: 0.0833 - acc: 0.97\n"
     ]
    },
    {
     "data": {
      "text/plain": [
       "<tensorflow.python.keras.callbacks.History at 0x2af1087d588>"
      ]
     },
     "execution_count": 8,
     "metadata": {},
     "output_type": "execute_result"
    }
   ],
   "source": [
    "model = Sequential()\n",
    "\n",
    "model.add(CuDNNLSTM(128, input_shape = x_train.shape[1:] , return_sequences = True))\n",
    "model.add(Dropout(0.2))\n",
    "\n",
    "model.add(CuDNNLSTM(128))\n",
    "model.add(Dropout(0.2))\n",
    "\n",
    "model.add(Dense(32, activation=\"relu\"))\n",
    "model.add(Dropout(0.2))\n",
    "\n",
    "model.add(Dense(10, activation=\"softmax\"))\n",
    "\n",
    "opt = tf.keras.optimizers.Adam(lr=1e-3, decay=1e-5) #decaying learning rate over time\n",
    "\n",
    "model.compile(loss = \"sparse_categorical_crossentropy\", optimizer = opt, metrics = ['accuracy'])\n",
    "\n",
    "model.fit(x_train, y_train, epochs=3, validation_data = (x_test, y_test))\n"
   ]
  }
 ],
 "metadata": {
  "kernelspec": {
   "display_name": "Python 3",
   "language": "python",
   "name": "python3"
  },
  "language_info": {
   "codemirror_mode": {
    "name": "ipython",
    "version": 3
   },
   "file_extension": ".py",
   "mimetype": "text/x-python",
   "name": "python",
   "nbconvert_exporter": "python",
   "pygments_lexer": "ipython3",
   "version": "3.6.6"
  }
 },
 "nbformat": 4,
 "nbformat_minor": 2
}

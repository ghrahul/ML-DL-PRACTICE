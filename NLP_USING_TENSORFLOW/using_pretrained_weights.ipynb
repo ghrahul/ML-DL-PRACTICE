{
  "nbformat": 4,
  "nbformat_minor": 0,
  "metadata": {
    "accelerator": "GPU",
    "colab": {
      "name": "using_pretrained_weights.ipynb",
      "provenance": [],
      "toc_visible": true,
      "include_colab_link": true
    },
    "kernelspec": {
      "display_name": "Python 3",
      "name": "python3"
    }
  },
  "cells": [
    {
      "cell_type": "markdown",
      "metadata": {
        "id": "view-in-github",
        "colab_type": "text"
      },
      "source": [
        "<a href=\"https://colab.research.google.com/github/ghrahul/ML-DL-PRACTICE/blob/master/NLP_USING_TENSORFLOW/using_pretrained_weights.ipynb\" target=\"_parent\"><img src=\"https://colab.research.google.com/assets/colab-badge.svg\" alt=\"Open In Colab\"/></a>"
      ]
    },
    {
      "cell_type": "code",
      "metadata": {
        "colab_type": "code",
        "id": "hmA6EzkQJ5jt",
        "colab": {}
      },
      "source": [
        "import json\n",
        "import tensorflow as tf\n",
        "import csv\n",
        "import random\n",
        "import numpy as np\n",
        "\n",
        "from tensorflow.keras.preprocessing.text import Tokenizer\n",
        "from tensorflow.keras.preprocessing.sequence import pad_sequences\n",
        "from tensorflow.keras.utils import to_categorical\n",
        "from tensorflow.keras import regularizers\n",
        "\n",
        "\n",
        "embedding_dim = 100\n",
        "max_length = 16\n",
        "trunc_type='post'\n",
        "padding_type='post'\n",
        "oov_tok = \"<OOV>\"\n",
        "training_size=160000\n",
        "test_portion=.1\n",
        "\n",
        "corpus = []\n"
      ],
      "execution_count": 0,
      "outputs": []
    },
    {
      "cell_type": "code",
      "metadata": {
        "colab_type": "code",
        "id": "bM0l_dORKqE0",
        "outputId": "e5904506-c144-41d0-ebfc-f22a856b2143",
        "colab": {
          "base_uri": "https://localhost:8080/",
          "height": 230
        }
      },
      "source": [
        "!wget --no-check-certificate \\\n",
        "    https://storage.googleapis.com/laurencemoroney-blog.appspot.com/training_cleaned.csv \\\n",
        "    -O /tmp/training_cleaned.csv\n",
        "\n",
        "num_sentences = 0\n",
        "\n",
        "with open(\"/tmp/training_cleaned.csv\") as csvfile:\n",
        "    reader = csv.reader(csvfile, delimiter=',')\n",
        "    for row in reader:\n",
        "        list_item=[]\n",
        "        list_item.append(row[5])\n",
        "        this_label=row[0]\n",
        "        if this_label=='0':\n",
        "            list_item.append(0)\n",
        "        else:\n",
        "            list_item.append(1)\n",
        "        num_sentences = num_sentences + 1\n",
        "        corpus.append(list_item)\n"
      ],
      "execution_count": 2,
      "outputs": [
        {
          "output_type": "stream",
          "text": [
            "--2020-05-09 08:13:44--  https://storage.googleapis.com/laurencemoroney-blog.appspot.com/training_cleaned.csv\n",
            "Resolving storage.googleapis.com (storage.googleapis.com)... 108.177.126.128, 2a00:1450:4013:c00::80\n",
            "Connecting to storage.googleapis.com (storage.googleapis.com)|108.177.126.128|:443... connected.\n",
            "HTTP request sent, awaiting response... 200 OK\n",
            "Length: 238942690 (228M) [application/octet-stream]\n",
            "Saving to: ‘/tmp/training_cleaned.csv’\n",
            "\n",
            "/tmp/training_clean 100%[===================>] 227.87M  71.5MB/s    in 3.2s    \n",
            "\n",
            "2020-05-09 08:13:48 (71.5 MB/s) - ‘/tmp/training_cleaned.csv’ saved [238942690/238942690]\n",
            "\n"
          ],
          "name": "stdout"
        }
      ]
    },
    {
      "cell_type": "code",
      "metadata": {
        "colab_type": "code",
        "id": "3kxblBUjEUX-",
        "outputId": "a1817bf0-130f-4afe-f069-bbdb3dd3b3d7",
        "colab": {
          "base_uri": "https://localhost:8080/",
          "height": 90
        }
      },
      "source": [
        "print(num_sentences)\n",
        "print(len(corpus))\n",
        "print(corpus[1][0])\n",
        "\n",
        "# Expected Output:\n",
        "# 1600000\n",
        "# 1600000\n",
        "# [\"is upset that he can't update his Facebook by texting it... and might cry as a result  School today also. Blah!\", 0]"
      ],
      "execution_count": 6,
      "outputs": [
        {
          "output_type": "stream",
          "text": [
            "1600000\n",
            "1600000\n",
            "@marcuspowl Hi! Waking up, and not lazy at all. You would be proud of me, 8 am here!!! Btw, nice colour, not burnt. \n"
          ],
          "name": "stdout"
        }
      ]
    },
    {
      "cell_type": "code",
      "metadata": {
        "id": "FRgtDKipgKFF",
        "colab_type": "code",
        "colab": {
          "base_uri": "https://localhost:8080/",
          "height": 54
        },
        "outputId": "f60da4df-93a1-4c5b-e901-3668e3aba267"
      },
      "source": [
        "print(corpus[1][0])"
      ],
      "execution_count": 5,
      "outputs": [
        {
          "output_type": "stream",
          "text": [
            "@marcuspowl Hi! Waking up, and not lazy at all. You would be proud of me, 8 am here!!! Btw, nice colour, not burnt. \n"
          ],
          "name": "stdout"
        }
      ]
    },
    {
      "cell_type": "code",
      "metadata": {
        "colab_type": "code",
        "id": "ohOGz24lsNAD",
        "colab": {}
      },
      "source": [
        "sentences=[]\n",
        "labels=[]\n",
        "random.shuffle(corpus)\n",
        "for x in range(training_size):\n",
        "    sentences.append(corpus[x][0])\n",
        "    labels.append(corpus[x][1])\n",
        "\n",
        "\n",
        "tokenizer = Tokenizer()\n",
        "tokenizer.fit_on_texts(sentences)\n",
        "\n",
        "word_index = tokenizer.word_index\n",
        "vocab_size=len(word_index)\n",
        "\n",
        "sequences = tokenizer.texts_to_sequences(sentences)\n",
        "padded = pad_sequences(sequences, maxlen=max_length, padding=padding_type, truncating=trunc_type)\n",
        "\n",
        "split = int(test_portion * training_size)\n",
        "\n",
        "test_sequences = padded[0:split]\n",
        "training_sequences = padded[split:training_size]\n",
        "test_labels = labels[0:split]\n",
        "training_labels = labels[split:training_size]"
      ],
      "execution_count": 0,
      "outputs": []
    },
    {
      "cell_type": "code",
      "metadata": {
        "colab_type": "code",
        "id": "gIrtRem1En3N",
        "outputId": "a1df8efa-b9a2-49c3-a234-29ce4512f02f",
        "colab": {
          "base_uri": "https://localhost:8080/",
          "height": 52
        }
      },
      "source": [
        "print(vocab_size)\n",
        "print(word_index['i'])\n",
        "# Expected Output\n",
        "# 138858\n",
        "# 1"
      ],
      "execution_count": 8,
      "outputs": [
        {
          "output_type": "stream",
          "text": [
            "138089\n",
            "1\n"
          ],
          "name": "stdout"
        }
      ]
    },
    {
      "cell_type": "code",
      "metadata": {
        "colab_type": "code",
        "id": "C1zdgJkusRh0",
        "outputId": "c52fe5b1-3283-4e77-f9b7-81cd44d6fc0c",
        "colab": {
          "base_uri": "https://localhost:8080/",
          "height": 230
        }
      },
      "source": [
        "# Note this is the 100 dimension version of GloVe from Stanford\n",
        "# I unzipped and hosted it on my site to make this notebook easier\n",
        "!wget --no-check-certificate \\\n",
        "    https://storage.googleapis.com/laurencemoroney-blog.appspot.com/glove.6B.100d.txt \\\n",
        "    -O /tmp/glove.6B.100d.txt\n",
        "embeddings_index = {};\n",
        "with open('/tmp/glove.6B.100d.txt') as f:\n",
        "    for line in f:\n",
        "        values = line.split();\n",
        "        word = values[0];\n",
        "        coefs = np.asarray(values[1:], dtype='float32');\n",
        "        embeddings_index[word] = coefs;\n",
        "\n",
        "embeddings_matrix = np.zeros((vocab_size+1, embedding_dim));\n",
        "for word, i in word_index.items():\n",
        "    embedding_vector = embeddings_index.get(word);\n",
        "    if embedding_vector is not None:\n",
        "        embeddings_matrix[i] = embedding_vector;"
      ],
      "execution_count": 9,
      "outputs": [
        {
          "output_type": "stream",
          "text": [
            "--2020-05-09 08:17:48--  https://storage.googleapis.com/laurencemoroney-blog.appspot.com/glove.6B.100d.txt\n",
            "Resolving storage.googleapis.com (storage.googleapis.com)... 108.177.119.128, 2a00:1450:4013:c00::80\n",
            "Connecting to storage.googleapis.com (storage.googleapis.com)|108.177.119.128|:443... connected.\n",
            "HTTP request sent, awaiting response... 200 OK\n",
            "Length: 347116733 (331M) [text/plain]\n",
            "Saving to: ‘/tmp/glove.6B.100d.txt’\n",
            "\n",
            "/tmp/glove.6B.100d. 100%[===================>] 331.04M   107MB/s    in 3.1s    \n",
            "\n",
            "2020-05-09 08:17:51 (107 MB/s) - ‘/tmp/glove.6B.100d.txt’ saved [347116733/347116733]\n",
            "\n"
          ],
          "name": "stdout"
        }
      ]
    },
    {
      "cell_type": "code",
      "metadata": {
        "colab_type": "code",
        "id": "71NLk_lpFLNt",
        "outputId": "fe0a3eae-a158-496f-ccc8-3e9e1b856a45",
        "colab": {
          "base_uri": "https://localhost:8080/",
          "height": 34
        }
      },
      "source": [
        "print(len(embeddings_matrix))\n",
        "# Expected Output\n",
        "# 138859"
      ],
      "execution_count": 10,
      "outputs": [
        {
          "output_type": "stream",
          "text": [
            "138090\n"
          ],
          "name": "stdout"
        }
      ]
    },
    {
      "cell_type": "code",
      "metadata": {
        "colab_type": "code",
        "id": "iKKvbuEBOGFz",
        "colab": {
          "base_uri": "https://localhost:8080/",
          "height": 1000
        },
        "outputId": "4db4b13d-ad98-4205-faec-d9604ccfae53"
      },
      "source": [
        "model = tf.keras.Sequential([\n",
        "    tf.keras.layers.Embedding(vocab_size+1, embedding_dim, input_length=max_length, weights=[embeddings_matrix], trainable=False),\n",
        "    tf.keras.layers.Dropout(0.2),\n",
        "    tf.keras.layers.Conv1D(64, 5, activation='relu'),\n",
        "    tf.keras.layers.MaxPooling1D(pool_size=4),\n",
        "    tf.keras.layers.LSTM(64),\n",
        "    tf.keras.layers.Dense(1, activation='sigmoid')\n",
        "])\n",
        "model.compile(loss='binary_crossentropy',optimizer='adam',metrics=['accuracy'])\n",
        "model.summary()\n",
        "\n",
        "num_epochs = 50\n",
        "history = model.fit(np.array(training_sequences), np.array(training_labels), epochs=num_epochs, validation_data=(np.array(test_sequences), np.array(test_labels)), verbose=2)\n",
        "\n",
        "print(\"Training Complete\")\n"
      ],
      "execution_count": 12,
      "outputs": [
        {
          "output_type": "stream",
          "text": [
            "Model: \"sequential_1\"\n",
            "_________________________________________________________________\n",
            "Layer (type)                 Output Shape              Param #   \n",
            "=================================================================\n",
            "embedding_1 (Embedding)      (None, 16, 100)           13809000  \n",
            "_________________________________________________________________\n",
            "dropout_1 (Dropout)          (None, 16, 100)           0         \n",
            "_________________________________________________________________\n",
            "conv1d_1 (Conv1D)            (None, 12, 64)            32064     \n",
            "_________________________________________________________________\n",
            "max_pooling1d_1 (MaxPooling1 (None, 3, 64)             0         \n",
            "_________________________________________________________________\n",
            "lstm_1 (LSTM)                (None, 64)                33024     \n",
            "_________________________________________________________________\n",
            "dense_1 (Dense)              (None, 1)                 65        \n",
            "=================================================================\n",
            "Total params: 13,874,153\n",
            "Trainable params: 65,153\n",
            "Non-trainable params: 13,809,000\n",
            "_________________________________________________________________\n",
            "Epoch 1/50\n",
            "4500/4500 - 15s - loss: 0.5682 - accuracy: 0.6983 - val_loss: 0.5279 - val_accuracy: 0.7314\n",
            "Epoch 2/50\n",
            "4500/4500 - 15s - loss: 0.5273 - accuracy: 0.7321 - val_loss: 0.5102 - val_accuracy: 0.7448\n",
            "Epoch 3/50\n",
            "4500/4500 - 14s - loss: 0.5102 - accuracy: 0.7437 - val_loss: 0.5047 - val_accuracy: 0.7471\n",
            "Epoch 4/50\n",
            "4500/4500 - 14s - loss: 0.4989 - accuracy: 0.7516 - val_loss: 0.4998 - val_accuracy: 0.7549\n",
            "Epoch 5/50\n",
            "4500/4500 - 14s - loss: 0.4911 - accuracy: 0.7579 - val_loss: 0.4941 - val_accuracy: 0.7593\n",
            "Epoch 6/50\n",
            "4500/4500 - 14s - loss: 0.4819 - accuracy: 0.7634 - val_loss: 0.4964 - val_accuracy: 0.7590\n",
            "Epoch 7/50\n",
            "4500/4500 - 14s - loss: 0.4777 - accuracy: 0.7673 - val_loss: 0.4942 - val_accuracy: 0.7607\n",
            "Epoch 8/50\n",
            "4500/4500 - 14s - loss: 0.4716 - accuracy: 0.7707 - val_loss: 0.4943 - val_accuracy: 0.7608\n",
            "Epoch 9/50\n",
            "4500/4500 - 14s - loss: 0.4684 - accuracy: 0.7711 - val_loss: 0.5044 - val_accuracy: 0.7536\n",
            "Epoch 10/50\n",
            "4500/4500 - 14s - loss: 0.4628 - accuracy: 0.7750 - val_loss: 0.4998 - val_accuracy: 0.7569\n",
            "Epoch 11/50\n",
            "4500/4500 - 15s - loss: 0.4611 - accuracy: 0.7757 - val_loss: 0.5056 - val_accuracy: 0.7546\n",
            "Epoch 12/50\n",
            "4500/4500 - 14s - loss: 0.4574 - accuracy: 0.7780 - val_loss: 0.5011 - val_accuracy: 0.7551\n",
            "Epoch 13/50\n",
            "4500/4500 - 14s - loss: 0.4559 - accuracy: 0.7805 - val_loss: 0.4979 - val_accuracy: 0.7614\n",
            "Epoch 14/50\n",
            "4500/4500 - 14s - loss: 0.4521 - accuracy: 0.7801 - val_loss: 0.5007 - val_accuracy: 0.7582\n",
            "Epoch 15/50\n",
            "4500/4500 - 14s - loss: 0.4507 - accuracy: 0.7825 - val_loss: 0.5008 - val_accuracy: 0.7577\n",
            "Epoch 16/50\n",
            "4500/4500 - 14s - loss: 0.4479 - accuracy: 0.7844 - val_loss: 0.5023 - val_accuracy: 0.7559\n",
            "Epoch 17/50\n",
            "4500/4500 - 14s - loss: 0.4464 - accuracy: 0.7849 - val_loss: 0.5019 - val_accuracy: 0.7577\n",
            "Epoch 18/50\n",
            "4500/4500 - 14s - loss: 0.4443 - accuracy: 0.7863 - val_loss: 0.5097 - val_accuracy: 0.7594\n",
            "Epoch 19/50\n",
            "4500/4500 - 14s - loss: 0.4428 - accuracy: 0.7881 - val_loss: 0.5033 - val_accuracy: 0.7564\n",
            "Epoch 20/50\n",
            "4500/4500 - 14s - loss: 0.4420 - accuracy: 0.7894 - val_loss: 0.5048 - val_accuracy: 0.7574\n",
            "Epoch 21/50\n",
            "4500/4500 - 14s - loss: 0.4412 - accuracy: 0.7883 - val_loss: 0.5103 - val_accuracy: 0.7519\n",
            "Epoch 22/50\n",
            "4500/4500 - 14s - loss: 0.4404 - accuracy: 0.7888 - val_loss: 0.5103 - val_accuracy: 0.7584\n",
            "Epoch 23/50\n",
            "4500/4500 - 14s - loss: 0.4405 - accuracy: 0.7884 - val_loss: 0.5048 - val_accuracy: 0.7546\n",
            "Epoch 24/50\n",
            "4500/4500 - 15s - loss: 0.4372 - accuracy: 0.7914 - val_loss: 0.5114 - val_accuracy: 0.7499\n",
            "Epoch 25/50\n",
            "4500/4500 - 14s - loss: 0.4358 - accuracy: 0.7918 - val_loss: 0.5086 - val_accuracy: 0.7528\n",
            "Epoch 26/50\n",
            "4500/4500 - 14s - loss: 0.4363 - accuracy: 0.7914 - val_loss: 0.5129 - val_accuracy: 0.7512\n",
            "Epoch 27/50\n",
            "4500/4500 - 14s - loss: 0.4343 - accuracy: 0.7930 - val_loss: 0.5129 - val_accuracy: 0.7536\n",
            "Epoch 28/50\n",
            "4500/4500 - 14s - loss: 0.4356 - accuracy: 0.7921 - val_loss: 0.5124 - val_accuracy: 0.7548\n",
            "Epoch 29/50\n",
            "4500/4500 - 14s - loss: 0.4341 - accuracy: 0.7933 - val_loss: 0.5129 - val_accuracy: 0.7512\n",
            "Epoch 30/50\n",
            "4500/4500 - 14s - loss: 0.4350 - accuracy: 0.7919 - val_loss: 0.5134 - val_accuracy: 0.7554\n",
            "Epoch 31/50\n",
            "4500/4500 - 14s - loss: 0.4314 - accuracy: 0.7952 - val_loss: 0.5160 - val_accuracy: 0.7529\n",
            "Epoch 32/50\n",
            "4500/4500 - 14s - loss: 0.4319 - accuracy: 0.7940 - val_loss: 0.5168 - val_accuracy: 0.7510\n",
            "Epoch 33/50\n",
            "4500/4500 - 15s - loss: 0.4325 - accuracy: 0.7939 - val_loss: 0.5111 - val_accuracy: 0.7541\n",
            "Epoch 34/50\n",
            "4500/4500 - 14s - loss: 0.4311 - accuracy: 0.7937 - val_loss: 0.5192 - val_accuracy: 0.7513\n",
            "Epoch 35/50\n",
            "4500/4500 - 14s - loss: 0.4311 - accuracy: 0.7945 - val_loss: 0.5132 - val_accuracy: 0.7554\n",
            "Epoch 36/50\n",
            "4500/4500 - 14s - loss: 0.4301 - accuracy: 0.7957 - val_loss: 0.5196 - val_accuracy: 0.7487\n",
            "Epoch 37/50\n",
            "4500/4500 - 14s - loss: 0.4308 - accuracy: 0.7947 - val_loss: 0.5153 - val_accuracy: 0.7502\n",
            "Epoch 38/50\n",
            "4500/4500 - 14s - loss: 0.4319 - accuracy: 0.7941 - val_loss: 0.5159 - val_accuracy: 0.7517\n",
            "Epoch 39/50\n",
            "4500/4500 - 14s - loss: 0.4286 - accuracy: 0.7975 - val_loss: 0.5162 - val_accuracy: 0.7515\n",
            "Epoch 40/50\n",
            "4500/4500 - 14s - loss: 0.4292 - accuracy: 0.7945 - val_loss: 0.5181 - val_accuracy: 0.7533\n",
            "Epoch 41/50\n",
            "4500/4500 - 14s - loss: 0.4277 - accuracy: 0.7965 - val_loss: 0.5183 - val_accuracy: 0.7517\n",
            "Epoch 42/50\n",
            "4500/4500 - 14s - loss: 0.4282 - accuracy: 0.7972 - val_loss: 0.5174 - val_accuracy: 0.7539\n",
            "Epoch 43/50\n",
            "4500/4500 - 14s - loss: 0.4282 - accuracy: 0.7968 - val_loss: 0.5204 - val_accuracy: 0.7523\n",
            "Epoch 44/50\n",
            "4500/4500 - 14s - loss: 0.4272 - accuracy: 0.7959 - val_loss: 0.5159 - val_accuracy: 0.7556\n",
            "Epoch 45/50\n",
            "4500/4500 - 15s - loss: 0.4280 - accuracy: 0.7953 - val_loss: 0.5174 - val_accuracy: 0.7535\n",
            "Epoch 46/50\n",
            "4500/4500 - 15s - loss: 0.4263 - accuracy: 0.7975 - val_loss: 0.5187 - val_accuracy: 0.7544\n",
            "Epoch 47/50\n",
            "4500/4500 - 14s - loss: 0.4261 - accuracy: 0.7976 - val_loss: 0.5202 - val_accuracy: 0.7502\n",
            "Epoch 48/50\n",
            "4500/4500 - 14s - loss: 0.4272 - accuracy: 0.7967 - val_loss: 0.5229 - val_accuracy: 0.7505\n",
            "Epoch 49/50\n",
            "4500/4500 - 14s - loss: 0.4262 - accuracy: 0.7980 - val_loss: 0.5214 - val_accuracy: 0.7507\n",
            "Epoch 50/50\n",
            "4500/4500 - 14s - loss: 0.4263 - accuracy: 0.7973 - val_loss: 0.5159 - val_accuracy: 0.7537\n",
            "Training Complete\n"
          ],
          "name": "stdout"
        }
      ]
    },
    {
      "cell_type": "code",
      "metadata": {
        "colab_type": "code",
        "id": "qxju4ItJKO8F",
        "colab": {
          "base_uri": "https://localhost:8080/",
          "height": 608
        },
        "outputId": "0289c8cb-ba94-4745-e84e-f8e21832fd3c"
      },
      "source": [
        "import matplotlib.image  as mpimg\n",
        "import matplotlib.pyplot as plt\n",
        "\n",
        "acc=history.history['accuracy']\n",
        "val_acc=history.history['val_accuracy']\n",
        "loss=history.history['loss']\n",
        "val_loss=history.history['val_loss']\n",
        "\n",
        "epochs=range(len(acc)) \n",
        "plt.plot(epochs, acc, 'r')\n",
        "plt.plot(epochs, val_acc, 'b')\n",
        "plt.title('Training and validation accuracy')\n",
        "plt.xlabel(\"Epochs\")\n",
        "plt.ylabel(\"Accuracy\")\n",
        "plt.legend([\"Accuracy\", \"Validation Accuracy\"])\n",
        "\n",
        "plt.figure()\n",
        "\n",
        "\n",
        "plt.plot(epochs, loss, 'r')\n",
        "plt.plot(epochs, val_loss, 'b')\n",
        "plt.title('Training and validation loss')\n",
        "plt.xlabel(\"Epochs\")\n",
        "plt.ylabel(\"Loss\")\n",
        "plt.legend([\"Loss\", \"Validation Loss\"])\n",
        "\n",
        "plt.figure()\n",
        "\n",
        "\n"
      ],
      "execution_count": 13,
      "outputs": [
        {
          "output_type": "execute_result",
          "data": {
            "text/plain": [
              "<Figure size 432x288 with 0 Axes>"
            ]
          },
          "metadata": {
            "tags": []
          },
          "execution_count": 13
        },
        {
          "output_type": "display_data",
          "data": {
            "image/png": "[encoded data removed]",
            "text/plain": [
              "<Figure size 432x288 with 1 Axes>"
            ]
          },
          "metadata": {
            "tags": [],
            "needs_background": "light"
          }
        },
        {
          "output_type": "display_data",
          "data": {
            "image/png": "[encoded data removed]",
            "text/plain": [
              "<Figure size 432x288 with 1 Axes>"
            ]
          },
          "metadata": {
            "tags": [],
            "needs_background": "light"
          }
        },
        {
          "output_type": "display_data",
          "data": {
            "text/plain": [
              "<Figure size 432x288 with 0 Axes>"
            ]
          },
          "metadata": {
            "tags": []
          }
        }
      ]
    }
  ]
}
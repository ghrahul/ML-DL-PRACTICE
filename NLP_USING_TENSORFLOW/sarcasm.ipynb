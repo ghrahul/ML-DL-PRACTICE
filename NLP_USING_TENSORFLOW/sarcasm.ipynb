{
  "nbformat": 4,
  "nbformat_minor": 0,
  "metadata": {
    "colab": {
      "name": "sarcasm.ipynb",
      "provenance": [],
      "mount_file_id": "https://github.com/ghrahul/ML-DL-PRACTICE/blob/master/NLP_USING_TENSORFLOW/sarcasm.ipynb",
      "authorship_tag": "ABX9TyMOPkrYNs/xtX9DCyU7jY1h",
      "include_colab_link": true
    },
    "kernelspec": {
      "name": "python3",
      "display_name": "Python 3"
    }
  },
  "cells": [
    {
      "cell_type": "markdown",
      "metadata": {
        "id": "view-in-github",
        "colab_type": "text"
      },
      "source": [
        "<a href=\"https://colab.research.google.com/github/ghrahul/ML-DL-PRACTICE/blob/master/NLP_USING_TENSORFLOW/sarcasm.ipynb\" target=\"_parent\"><img src=\"https://colab.research.google.com/assets/colab-badge.svg\" alt=\"Open In Colab\"/></a>"
      ]
    },
    {
      "cell_type": "code",
      "metadata": {
        "id": "ZCtFdJnXI0GE",
        "colab_type": "code",
        "colab": {}
      },
      "source": [
        "import requests\n",
        "sarcasm_json = requests.get('https://storage.googleapis.com/laurencemoroney-blog.appspot.com/sarcasm.json')\n",
        "sentences = []\n",
        "labels = []\n",
        "urls = []\n",
        "for item in sarcasm_json.json():\n",
        "    sentences.append(item['headline'])\n",
        "    labels.append(item['is_sarcastic'])\n",
        "    urls.append(item['article_link'])"
      ],
      "execution_count": 0,
      "outputs": []
    },
    {
      "cell_type": "code",
      "metadata": {
        "id": "YXhMQwC7HM_x",
        "colab_type": "code",
        "outputId": "355d167f-61e8-4402-de2e-bc327b61f84e",
        "colab": {
          "base_uri": "https://localhost:8080/",
          "height": 35
        }
      },
      "source": [
        "print(len(sentences))"
      ],
      "execution_count": 3,
      "outputs": [
        {
          "output_type": "stream",
          "text": [
            "26709\n"
          ],
          "name": "stdout"
        }
      ]
    },
    {
      "cell_type": "code",
      "metadata": {
        "id": "VyuN0L3KF3bE",
        "colab_type": "code",
        "colab": {}
      },
      "source": [
        "import tensorflow as tf\n",
        "from tensorflow.keras.preprocessing.text import Tokenizer\n",
        "from tensorflow.keras.preprocessing.sequence import pad_sequences"
      ],
      "execution_count": 0,
      "outputs": []
    },
    {
      "cell_type": "code",
      "metadata": {
        "id": "kUuYTxjVU_ic",
        "colab_type": "code",
        "colab": {}
      },
      "source": [
        "#defining the hyperparameters\n",
        "vocab_size = 10000\n",
        "embedding_dim = 16\n",
        "max_length = 32\n",
        "trunc_type = \"post\"\n",
        "padding_type = \"post\"\n",
        "oov_token = \"<OOV>\"\n",
        "training_size = 20000"
      ],
      "execution_count": 0,
      "outputs": []
    },
    {
      "cell_type": "code",
      "metadata": {
        "id": "QftdSLWBVdB1",
        "colab_type": "code",
        "colab": {}
      },
      "source": [
        "import numpy as np\n",
        "training_sentences = sentences[0:training_size]\n",
        "testing_sentences = sentences[training_size:]\n",
        "training_labels = np.array(labels[0:training_size])\n",
        "testing_labels = np.array(labels[training_size:])"
      ],
      "execution_count": 0,
      "outputs": []
    },
    {
      "cell_type": "code",
      "metadata": {
        "id": "FNmRDU-ZGHqZ",
        "colab_type": "code",
        "colab": {}
      },
      "source": [
        "tokenizer = Tokenizer(num_words=vocab_size, oov_token=oov_token)\n",
        "tokenizer.fit_on_texts(training_sentences)\n",
        "word_index = tokenizer.word_index "
      ],
      "execution_count": 0,
      "outputs": []
    },
    {
      "cell_type": "code",
      "metadata": {
        "id": "2hdsEMV1GrzB",
        "colab_type": "code",
        "colab": {}
      },
      "source": [
        "training_sequences = tokenizer.texts_to_sequences(training_sentences)\n",
        "training_padded = pad_sequences(training_sequences, padding=padding_type, truncating=trunc_type, maxlen=max_length)\n"
      ],
      "execution_count": 0,
      "outputs": []
    },
    {
      "cell_type": "code",
      "metadata": {
        "id": "82OIj-77XHdr",
        "colab_type": "code",
        "colab": {}
      },
      "source": [
        "testing_sequences = tokenizer.texts_to_sequences(testing_sentences)\n",
        "testing_padded = pad_sequences(testing_sequences, maxlen=max_length, padding=padding_type, truncating=trunc_type)"
      ],
      "execution_count": 0,
      "outputs": []
    },
    {
      "cell_type": "code",
      "metadata": {
        "id": "52iBOw_mXst7",
        "colab_type": "code",
        "colab": {}
      },
      "source": [
        "model = tf.keras.Sequential([tf.keras.layers.Embedding(vocab_size, embedding_dim, input_length=max_length),\n",
        "                             tf.keras.layers.GlobalAveragePooling1D(),\n",
        "                             tf.keras.layers.Dense(24, activation=\"relu\"),\n",
        "                             tf.keras.layers.Dense(1, activation=\"sigmoid\")\n",
        "                             \n",
        "          ])\n",
        "model.compile(loss=\"binary_crossentropy\", optimizer=\"adam\", metrics=['accuracy'])"
      ],
      "execution_count": 0,
      "outputs": []
    },
    {
      "cell_type": "code",
      "metadata": {
        "id": "jYF0pLv5YlNx",
        "colab_type": "code",
        "outputId": "34cf007b-964c-4564-9006-738fc45abc21",
        "colab": {
          "base_uri": "https://localhost:8080/",
          "height": 295
        }
      },
      "source": [
        "model.summary()"
      ],
      "execution_count": 19,
      "outputs": [
        {
          "output_type": "stream",
          "text": [
            "Model: \"sequential_1\"\n",
            "_________________________________________________________________\n",
            "Layer (type)                 Output Shape              Param #   \n",
            "=================================================================\n",
            "embedding_1 (Embedding)      (None, 32, 16)            160000    \n",
            "_________________________________________________________________\n",
            "global_average_pooling1d_1 ( (None, 16)                0         \n",
            "_________________________________________________________________\n",
            "dense_2 (Dense)              (None, 24)                408       \n",
            "_________________________________________________________________\n",
            "dense_3 (Dense)              (None, 1)                 25        \n",
            "=================================================================\n",
            "Total params: 160,433\n",
            "Trainable params: 160,433\n",
            "Non-trainable params: 0\n",
            "_________________________________________________________________\n"
          ],
          "name": "stdout"
        }
      ]
    },
    {
      "cell_type": "code",
      "metadata": {
        "id": "bUj20rFrYtOn",
        "colab_type": "code",
        "outputId": "c070e49d-d8cd-4e8e-c4da-3164c48f7d80",
        "colab": {
          "base_uri": "https://localhost:8080/",
          "height": 1000
        }
      },
      "source": [
        "num_epochs = 30\n",
        "history = model.fit(training_padded, training_labels, epochs=num_epochs, validation_data=(testing_padded, testing_labels), verbose=2)"
      ],
      "execution_count": 20,
      "outputs": [
        {
          "output_type": "stream",
          "text": [
            "Epoch 1/30\n",
            "625/625 - 2s - loss: 0.5560 - accuracy: 0.7111 - val_loss: 0.3906 - val_accuracy: 0.8343\n",
            "Epoch 2/30\n",
            "625/625 - 2s - loss: 0.3030 - accuracy: 0.8778 - val_loss: 0.3382 - val_accuracy: 0.8575\n",
            "Epoch 3/30\n",
            "625/625 - 2s - loss: 0.2256 - accuracy: 0.9111 - val_loss: 0.3442 - val_accuracy: 0.8566\n",
            "Epoch 4/30\n",
            "625/625 - 2s - loss: 0.1809 - accuracy: 0.9306 - val_loss: 0.3822 - val_accuracy: 0.8487\n",
            "Epoch 5/30\n",
            "625/625 - 2s - loss: 0.1496 - accuracy: 0.9453 - val_loss: 0.4027 - val_accuracy: 0.8463\n",
            "Epoch 6/30\n",
            "625/625 - 2s - loss: 0.1266 - accuracy: 0.9537 - val_loss: 0.4430 - val_accuracy: 0.8425\n",
            "Epoch 7/30\n",
            "625/625 - 2s - loss: 0.1070 - accuracy: 0.9632 - val_loss: 0.4831 - val_accuracy: 0.8419\n",
            "Epoch 8/30\n",
            "625/625 - 2s - loss: 0.0931 - accuracy: 0.9681 - val_loss: 0.5310 - val_accuracy: 0.8372\n",
            "Epoch 9/30\n",
            "625/625 - 2s - loss: 0.0797 - accuracy: 0.9727 - val_loss: 0.5743 - val_accuracy: 0.8353\n",
            "Epoch 10/30\n",
            "625/625 - 2s - loss: 0.0686 - accuracy: 0.9777 - val_loss: 0.6262 - val_accuracy: 0.8286\n",
            "Epoch 11/30\n",
            "625/625 - 2s - loss: 0.0590 - accuracy: 0.9809 - val_loss: 0.6831 - val_accuracy: 0.8259\n",
            "Epoch 12/30\n",
            "625/625 - 2s - loss: 0.0506 - accuracy: 0.9844 - val_loss: 0.7446 - val_accuracy: 0.8232\n",
            "Epoch 13/30\n",
            "625/625 - 2s - loss: 0.0441 - accuracy: 0.9870 - val_loss: 0.7963 - val_accuracy: 0.8220\n",
            "Epoch 14/30\n",
            "625/625 - 2s - loss: 0.0415 - accuracy: 0.9862 - val_loss: 0.8520 - val_accuracy: 0.8182\n",
            "Epoch 15/30\n",
            "625/625 - 2s - loss: 0.0344 - accuracy: 0.9893 - val_loss: 0.9124 - val_accuracy: 0.8159\n",
            "Epoch 16/30\n",
            "625/625 - 2s - loss: 0.0297 - accuracy: 0.9919 - val_loss: 0.9769 - val_accuracy: 0.8159\n",
            "Epoch 17/30\n",
            "625/625 - 2s - loss: 0.0268 - accuracy: 0.9922 - val_loss: 1.0385 - val_accuracy: 0.8116\n",
            "Epoch 18/30\n",
            "625/625 - 2s - loss: 0.0234 - accuracy: 0.9936 - val_loss: 1.1171 - val_accuracy: 0.8106\n",
            "Epoch 19/30\n",
            "625/625 - 2s - loss: 0.0210 - accuracy: 0.9944 - val_loss: 1.1936 - val_accuracy: 0.8073\n",
            "Epoch 20/30\n",
            "625/625 - 2s - loss: 0.0187 - accuracy: 0.9945 - val_loss: 1.2494 - val_accuracy: 0.8079\n",
            "Epoch 21/30\n",
            "625/625 - 2s - loss: 0.0168 - accuracy: 0.9950 - val_loss: 1.3025 - val_accuracy: 0.8083\n",
            "Epoch 22/30\n",
            "625/625 - 2s - loss: 0.0161 - accuracy: 0.9953 - val_loss: 1.3969 - val_accuracy: 0.8052\n",
            "Epoch 23/30\n",
            "625/625 - 2s - loss: 0.0147 - accuracy: 0.9958 - val_loss: 1.4363 - val_accuracy: 0.8062\n",
            "Epoch 24/30\n",
            "625/625 - 2s - loss: 0.0131 - accuracy: 0.9962 - val_loss: 1.5221 - val_accuracy: 0.8068\n",
            "Epoch 25/30\n",
            "625/625 - 2s - loss: 0.0121 - accuracy: 0.9964 - val_loss: 1.5716 - val_accuracy: 0.8035\n",
            "Epoch 26/30\n",
            "625/625 - 2s - loss: 0.0103 - accuracy: 0.9970 - val_loss: 1.6313 - val_accuracy: 0.8052\n",
            "Epoch 27/30\n",
            "625/625 - 2s - loss: 0.0119 - accuracy: 0.9965 - val_loss: 1.6706 - val_accuracy: 0.8058\n",
            "Epoch 28/30\n",
            "625/625 - 2s - loss: 0.0099 - accuracy: 0.9967 - val_loss: 1.7408 - val_accuracy: 0.8024\n",
            "Epoch 29/30\n",
            "625/625 - 2s - loss: 0.0075 - accuracy: 0.9974 - val_loss: 1.8030 - val_accuracy: 0.8028\n",
            "Epoch 30/30\n",
            "625/625 - 2s - loss: 0.0069 - accuracy: 0.9982 - val_loss: 1.8591 - val_accuracy: 0.8061\n"
          ],
          "name": "stdout"
        }
      ]
    },
    {
      "cell_type": "code",
      "metadata": {
        "id": "nV3x5pmKclBT",
        "colab_type": "code",
        "colab": {
          "base_uri": "https://localhost:8080/",
          "height": 541
        },
        "outputId": "eb2346b1-f5aa-4124-ece3-a79b5442a9bd"
      },
      "source": [
        "import matplotlib.pyplot as plt\n",
        "\n",
        "def plot_graphs(history, string):\n",
        "  plt.plot(history.history[string])\n",
        "  plt.plot(history.history['val_'+string])\n",
        "  plt.xlabel(\"Epochs\")\n",
        "  plt.ylabel(string)\n",
        "  plt.legend([string, 'val_'+string])\n",
        "  plt.show()\n",
        "\n",
        "plot_graphs(history, \"accuracy\")\n",
        "plot_graphs(history, \"loss\")"
      ],
      "execution_count": 22,
      "outputs": [
        {
          "output_type": "display_data",
          "data": {
            "image/png": "[encoded data removed]",
            "text/plain": [
              "<Figure size 432x288 with 1 Axes>"
            ]
          },
          "metadata": {
            "tags": [],
            "needs_background": "light"
          }
        },
        {
          "output_type": "display_data",
          "data": {
            "image/png": "[encoded data removed]",
            "text/plain": [
              "<Figure size 432x288 with 1 Axes>"
            ]
          },
          "metadata": {
            "tags": [],
            "needs_background": "light"
          }
        }
      ]
    }
  ]
}
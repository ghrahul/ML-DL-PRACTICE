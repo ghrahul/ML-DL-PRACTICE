{
  "nbformat": 4,
  "nbformat_minor": 0,
  "metadata": {
    "colab": {
      "name": "turicreate_recommendation.ipynb",
      "version": "0.3.2",
      "provenance": [],
      "include_colab_link": true
    },
    "kernelspec": {
      "name": "python3",
      "display_name": "Python 3"
    }
  },
  "cells": [
    {
      "cell_type": "markdown",
      "metadata": {
        "id": "view-in-github",
        "colab_type": "text"
      },
      "source": [
        "<a href=\"https://colab.research.google.com/github/ghrahul/ML-DL-PRACTICE/blob/master/recommendation%20system/turicreate_recommendation.ipynb\" target=\"_parent\"><img src=\"https://colab.research.google.com/assets/colab-badge.svg\" alt=\"Open In Colab\"/></a>"
      ]
    },
    {
      "cell_type": "code",
      "metadata": {
        "id": "Qf8KhIHclr3L",
        "colab_type": "code",
        "colab": {}
      },
      "source": [
        "import pandas as pd\n",
        "import turicreate\n"
      ],
      "execution_count": 0,
      "outputs": []
    },
    {
      "cell_type": "code",
      "metadata": {
        "id": "b8HjoMVPlLDI",
        "colab_type": "code",
        "outputId": "e487d371-d9bf-47ea-c179-170da1c01a35",
        "colab": {
          "base_uri": "https://localhost:8080/",
          "height": 34
        }
      },
      "source": [
        "r_cols = ['user_id', 'movie_id', 'rating', 'unix_timestamp']\n",
        "ratings_train = pd.read_csv('ua.base', sep='\\t', names=r_cols, encoding='latin-1')\n",
        "ratings_test = pd.read_csv('ua.test', sep='\\t', names=r_cols, encoding='latin-1')\n",
        "ratings_train.shape, ratings_test.shape"
      ],
      "execution_count": 0,
      "outputs": [
        {
          "output_type": "execute_result",
          "data": {
            "text/plain": [
              "((90570, 4), (9430, 4))"
            ]
          },
          "metadata": {
            "tags": []
          },
          "execution_count": 21
        }
      ]
    },
    {
      "cell_type": "code",
      "metadata": {
        "id": "NtuGvhS-lwAK",
        "colab_type": "code",
        "colab": {}
      },
      "source": [
        "test_data = turicreate.SFrame(ratings_test)\n",
        "test_data = turicreate.SFrame(ratings_test)"
      ],
      "execution_count": 0,
      "outputs": []
    },
    {
      "cell_type": "code",
      "metadata": {
        "id": "oYJmfzZenE9R",
        "colab_type": "code",
        "outputId": "2a7cccee-63ea-442e-f6ba-9cdf0228493f",
        "colab": {
          "base_uri": "https://localhost:8080/",
          "height": 119
        }
      },
      "source": [
        "#a model where all the users receive the same recommendation(s).the turicreate recommender function popularity_recommender for this.\n",
        "popularity_model = turicreate.popularity_recommender.create(train_data, user_id='user_id', item_id='movie_id', target='rating')"
      ],
      "execution_count": 0,
      "outputs": [
        {
          "output_type": "display_data",
          "data": {
            "text/html": [
              "<pre>Warning: Ignoring columns unix_timestamp;</pre>"
            ],
            "text/plain": [
              "Warning: Ignoring columns unix_timestamp;"
            ]
          },
          "metadata": {
            "tags": []
          }
        },
        {
          "output_type": "display_data",
          "data": {
            "text/html": [
              "<pre>    To use these columns in scoring predictions, use a model that allows the use of additional features.</pre>"
            ],
            "text/plain": [
              "    To use these columns in scoring predictions, use a model that allows the use of additional features."
            ]
          },
          "metadata": {
            "tags": []
          }
        },
        {
          "output_type": "display_data",
          "data": {
            "text/html": [
              "<pre>Preparing data set.</pre>"
            ],
            "text/plain": [
              "Preparing data set."
            ]
          },
          "metadata": {
            "tags": []
          }
        },
        {
          "output_type": "display_data",
          "data": {
            "text/html": [
              "<pre>    Data has 90570 observations with 943 users and 1680 items.</pre>"
            ],
            "text/plain": [
              "    Data has 90570 observations with 943 users and 1680 items."
            ]
          },
          "metadata": {
            "tags": []
          }
        },
        {
          "output_type": "display_data",
          "data": {
            "text/html": [
              "<pre>    Data prepared in: 0.122982s</pre>"
            ],
            "text/plain": [
              "    Data prepared in: 0.122982s"
            ]
          },
          "metadata": {
            "tags": []
          }
        },
        {
          "output_type": "display_data",
          "data": {
            "text/html": [
              "<pre>90570 observations to process; with 1680 unique items.</pre>"
            ],
            "text/plain": [
              "90570 observations to process; with 1680 unique items."
            ]
          },
          "metadata": {
            "tags": []
          }
        }
      ]
    },
    {
      "cell_type": "code",
      "metadata": {
        "id": "5YrxdYW-2Oud",
        "colab_type": "code",
        "outputId": "afd4fded-ff0a-441b-f12c-02c672b97274",
        "colab": {
          "base_uri": "https://localhost:8080/",
          "height": 544
        }
      },
      "source": [
        "#prediction\n",
        "popularity_recomm = popularity_model.recommend(users=[1,2,3,4,5],k=5)\n",
        "popularity_recomm.print_rows(num_rows=25)"
      ],
      "execution_count": 0,
      "outputs": [
        {
          "output_type": "stream",
          "text": [
            "+---------+----------+-------+------+\n",
            "| user_id | movie_id | score | rank |\n",
            "+---------+----------+-------+------+\n",
            "|    1    |   1599   |  5.0  |  1   |\n",
            "|    1    |   1201   |  5.0  |  2   |\n",
            "|    1    |   1189   |  5.0  |  3   |\n",
            "|    1    |   1122   |  5.0  |  4   |\n",
            "|    1    |   814    |  5.0  |  5   |\n",
            "|    2    |   1599   |  5.0  |  1   |\n",
            "|    2    |   1201   |  5.0  |  2   |\n",
            "|    2    |   1189   |  5.0  |  3   |\n",
            "|    2    |   1122   |  5.0  |  4   |\n",
            "|    2    |   814    |  5.0  |  5   |\n",
            "|    3    |   1599   |  5.0  |  1   |\n",
            "|    3    |   1201   |  5.0  |  2   |\n",
            "|    3    |   1189   |  5.0  |  3   |\n",
            "|    3    |   1122   |  5.0  |  4   |\n",
            "|    3    |   814    |  5.0  |  5   |\n",
            "|    4    |   1599   |  5.0  |  1   |\n",
            "|    4    |   1201   |  5.0  |  2   |\n",
            "|    4    |   1189   |  5.0  |  3   |\n",
            "|    4    |   1122   |  5.0  |  4   |\n",
            "|    4    |   814    |  5.0  |  5   |\n",
            "|    5    |   1599   |  5.0  |  1   |\n",
            "|    5    |   1201   |  5.0  |  2   |\n",
            "|    5    |   1189   |  5.0  |  3   |\n",
            "|    5    |   1122   |  5.0  |  4   |\n",
            "|    5    |   814    |  5.0  |  5   |\n",
            "+---------+----------+-------+------+\n",
            "[25 rows x 4 columns]\n",
            "\n"
          ],
          "name": "stdout"
        }
      ]
    },
    {
      "cell_type": "code",
      "metadata": {
        "id": "BT9eUsqM37YI",
        "colab_type": "code",
        "outputId": "02666095-4177-4847-b527-44da21f9bca7",
        "colab": {
          "base_uri": "https://localhost:8080/",
          "height": 408
        }
      },
      "source": [
        "#using collaborative filtering\n",
        "\n",
        "#Training the model\n",
        "item_sim_model = turicreate.item_similarity_recommender.create(train_data, user_id='user_id', item_id='movie_id', target='rating', similarity_type='cosine')"
      ],
      "execution_count": 0,
      "outputs": [
        {
          "output_type": "display_data",
          "data": {
            "text/html": [
              "<pre>Warning: Ignoring columns unix_timestamp;</pre>"
            ],
            "text/plain": [
              "Warning: Ignoring columns unix_timestamp;"
            ]
          },
          "metadata": {
            "tags": []
          }
        },
        {
          "output_type": "display_data",
          "data": {
            "text/html": [
              "<pre>    To use these columns in scoring predictions, use a model that allows the use of additional features.</pre>"
            ],
            "text/plain": [
              "    To use these columns in scoring predictions, use a model that allows the use of additional features."
            ]
          },
          "metadata": {
            "tags": []
          }
        },
        {
          "output_type": "display_data",
          "data": {
            "text/html": [
              "<pre>Preparing data set.</pre>"
            ],
            "text/plain": [
              "Preparing data set."
            ]
          },
          "metadata": {
            "tags": []
          }
        },
        {
          "output_type": "display_data",
          "data": {
            "text/html": [
              "<pre>    Data has 90570 observations with 943 users and 1680 items.</pre>"
            ],
            "text/plain": [
              "    Data has 90570 observations with 943 users and 1680 items."
            ]
          },
          "metadata": {
            "tags": []
          }
        },
        {
          "output_type": "display_data",
          "data": {
            "text/html": [
              "<pre>    Data prepared in: 0.102595s</pre>"
            ],
            "text/plain": [
              "    Data prepared in: 0.102595s"
            ]
          },
          "metadata": {
            "tags": []
          }
        },
        {
          "output_type": "display_data",
          "data": {
            "text/html": [
              "<pre>Training model from provided data.</pre>"
            ],
            "text/plain": [
              "Training model from provided data."
            ]
          },
          "metadata": {
            "tags": []
          }
        },
        {
          "output_type": "display_data",
          "data": {
            "text/html": [
              "<pre>Gathering per-item and per-user statistics.</pre>"
            ],
            "text/plain": [
              "Gathering per-item and per-user statistics."
            ]
          },
          "metadata": {
            "tags": []
          }
        },
        {
          "output_type": "display_data",
          "data": {
            "text/html": [
              "<pre>+--------------------------------+------------+</pre>"
            ],
            "text/plain": [
              "+--------------------------------+------------+"
            ]
          },
          "metadata": {
            "tags": []
          }
        },
        {
          "output_type": "display_data",
          "data": {
            "text/html": [
              "<pre>| Elapsed Time (Item Statistics) | % Complete |</pre>"
            ],
            "text/plain": [
              "| Elapsed Time (Item Statistics) | % Complete |"
            ]
          },
          "metadata": {
            "tags": []
          }
        },
        {
          "output_type": "display_data",
          "data": {
            "text/html": [
              "<pre>+--------------------------------+------------+</pre>"
            ],
            "text/plain": [
              "+--------------------------------+------------+"
            ]
          },
          "metadata": {
            "tags": []
          }
        },
        {
          "output_type": "display_data",
          "data": {
            "text/html": [
              "<pre>| 7.511ms                        | 100        |</pre>"
            ],
            "text/plain": [
              "| 7.511ms                        | 100        |"
            ]
          },
          "metadata": {
            "tags": []
          }
        },
        {
          "output_type": "display_data",
          "data": {
            "text/html": [
              "<pre>+--------------------------------+------------+</pre>"
            ],
            "text/plain": [
              "+--------------------------------+------------+"
            ]
          },
          "metadata": {
            "tags": []
          }
        },
        {
          "output_type": "display_data",
          "data": {
            "text/html": [
              "<pre>Setting up lookup tables.</pre>"
            ],
            "text/plain": [
              "Setting up lookup tables."
            ]
          },
          "metadata": {
            "tags": []
          }
        },
        {
          "output_type": "display_data",
          "data": {
            "text/html": [
              "<pre>Processing data in one pass using dense lookup tables.</pre>"
            ],
            "text/plain": [
              "Processing data in one pass using dense lookup tables."
            ]
          },
          "metadata": {
            "tags": []
          }
        },
        {
          "output_type": "display_data",
          "data": {
            "text/html": [
              "<pre>+-------------------------------------+------------------+-----------------+</pre>"
            ],
            "text/plain": [
              "+-------------------------------------+------------------+-----------------+"
            ]
          },
          "metadata": {
            "tags": []
          }
        },
        {
          "output_type": "display_data",
          "data": {
            "text/html": [
              "<pre>| Elapsed Time (Constructing Lookups) | Total % Complete | Items Processed |</pre>"
            ],
            "text/plain": [
              "| Elapsed Time (Constructing Lookups) | Total % Complete | Items Processed |"
            ]
          },
          "metadata": {
            "tags": []
          }
        },
        {
          "output_type": "display_data",
          "data": {
            "text/html": [
              "<pre>+-------------------------------------+------------------+-----------------+</pre>"
            ],
            "text/plain": [
              "+-------------------------------------+------------------+-----------------+"
            ]
          },
          "metadata": {
            "tags": []
          }
        },
        {
          "output_type": "display_data",
          "data": {
            "text/html": [
              "<pre>| 23.401ms                            | 0.25             | 6               |</pre>"
            ],
            "text/plain": [
              "| 23.401ms                            | 0.25             | 6               |"
            ]
          },
          "metadata": {
            "tags": []
          }
        },
        {
          "output_type": "display_data",
          "data": {
            "text/html": [
              "<pre>| 246.424ms                           | 100              | 1680            |</pre>"
            ],
            "text/plain": [
              "| 246.424ms                           | 100              | 1680            |"
            ]
          },
          "metadata": {
            "tags": []
          }
        },
        {
          "output_type": "display_data",
          "data": {
            "text/html": [
              "<pre>+-------------------------------------+------------------+-----------------+</pre>"
            ],
            "text/plain": [
              "+-------------------------------------+------------------+-----------------+"
            ]
          },
          "metadata": {
            "tags": []
          }
        },
        {
          "output_type": "display_data",
          "data": {
            "text/html": [
              "<pre>Finalizing lookup tables.</pre>"
            ],
            "text/plain": [
              "Finalizing lookup tables."
            ]
          },
          "metadata": {
            "tags": []
          }
        },
        {
          "output_type": "display_data",
          "data": {
            "text/html": [
              "<pre>Generating candidate set for working with new users.</pre>"
            ],
            "text/plain": [
              "Generating candidate set for working with new users."
            ]
          },
          "metadata": {
            "tags": []
          }
        },
        {
          "output_type": "display_data",
          "data": {
            "text/html": [
              "<pre>Finished training in 1.26544s</pre>"
            ],
            "text/plain": [
              "Finished training in 1.26544s"
            ]
          },
          "metadata": {
            "tags": []
          }
        }
      ]
    },
    {
      "cell_type": "code",
      "metadata": {
        "id": "eXEP9nOT4JN5",
        "colab_type": "code",
        "outputId": "1ec450ef-a7b6-4923-d8ba-2bbd3073028a",
        "colab": {
          "base_uri": "https://localhost:8080/",
          "height": 544
        }
      },
      "source": [
        "#Making recommendations\n",
        "item_sim_recomm = item_sim_model.recommend(users=[1,2,3,4,5],k=5)\n",
        "item_sim_recomm.print_rows(num_rows=25)\n"
      ],
      "execution_count": 0,
      "outputs": [
        {
          "output_type": "stream",
          "text": [
            "+---------+----------+--------------------+------+\n",
            "| user_id | movie_id |       score        | rank |\n",
            "+---------+----------+--------------------+------+\n",
            "|    1    |   423    | 0.9834008066708805 |  1   |\n",
            "|    1    |   202    | 0.9495907992352056 |  2   |\n",
            "|    1    |   655    | 0.7962183331260244 |  3   |\n",
            "|    1    |   403    | 0.765623665037956  |  4   |\n",
            "|    1    |   568    | 0.7511795292828829 |  5   |\n",
            "|    2    |    50    | 1.1256258487701416 |  1   |\n",
            "|    2    |   181    | 1.0651773168490484 |  2   |\n",
            "|    2    |    7     | 0.9998190838557023 |  3   |\n",
            "|    2    |   121    |  0.94162796323116  |  4   |\n",
            "|    2    |    9     | 0.831989913032605  |  5   |\n",
            "|    3    |   313    | 0.6353766620159149 |  1   |\n",
            "|    3    |   328    | 0.6032880300825293 |  2   |\n",
            "|    3    |   315    | 0.5422587123784152 |  3   |\n",
            "|    3    |   331    | 0.5355071858926252 |  4   |\n",
            "|    3    |   332    | 0.5316696112806146 |  5   |\n",
            "|    4    |    50    | 1.1311477082116264 |  1   |\n",
            "|    4    |   288    | 1.0487151145935059 |  2   |\n",
            "|    4    |   181    | 0.9505999386310577 |  3   |\n",
            "|    4    |    7     |  0.9417778807027   |  4   |\n",
            "|    4    |   302    | 0.9139021464756557 |  5   |\n",
            "|    5    |   195    | 1.0158377741322373 |  1   |\n",
            "|    5    |   202    | 0.9353599468866984 |  2   |\n",
            "|    5    |    56    | 0.8479394096316714 |  3   |\n",
            "|    5    |    82    | 0.7641052596496813 |  4   |\n",
            "|    5    |    96    | 0.7468249353495511 |  5   |\n",
            "+---------+----------+--------------------+------+\n",
            "[25 rows x 4 columns]\n",
            "\n"
          ],
          "name": "stdout"
        }
      ]
    },
    {
      "cell_type": "markdown",
      "metadata": {
        "id": "FEPotyL163Dl",
        "colab_type": "text"
      },
      "source": [
        "423 E.T. the Extra-Terrestrial (1982)\n",
        "202 Groundhog Day (1993)\n",
        "655 Stand by Me (1986)\n",
        "403 Batman (1989)\n",
        "568 Speed (1994)"
      ]
    },
    {
      "cell_type": "code",
      "metadata": {
        "id": "ZkhJGHNY4TTn",
        "colab_type": "code",
        "colab": {}
      },
      "source": [
        ""
      ],
      "execution_count": 0,
      "outputs": []
    }
  ]
}